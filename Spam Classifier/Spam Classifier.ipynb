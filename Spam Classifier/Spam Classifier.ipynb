{
 "cells": [
  {
   "cell_type": "code",
   "execution_count": 1,
   "id": "dd8015af",
   "metadata": {},
   "outputs": [
    {
     "name": "stderr",
     "output_type": "stream",
     "text": [
      "C:\\Users\\ACER\\anaconda3\\lib\\site-packages\\scipy\\__init__.py:138: UserWarning: A NumPy version >=1.16.5 and <1.23.0 is required for this version of SciPy (detected version 1.23.1)\n",
      "  warnings.warn(f\"A NumPy version >={np_minversion} and <{np_maxversion} is required for this version of \"\n"
     ]
    }
   ],
   "source": [
    "# importing relevant libraries\n",
    "import os\n",
    "import tensorflow as tf\n",
    "import numpy as np\n",
    "import pandas as pd\n",
    "import seaborn as sns\n",
    "import sklearn\n",
    "import matplotlib.pyplot as plt\n",
    "from sklearn.model_selection import cross_val_score\n",
    "from sklearn.linear_model import LogisticRegression\n",
    "from sklearn.metrics import accuracy_score, confusion_matrix, classification_report, r2_score\n",
    "from sklearn.model_selection import train_test_split\n",
    "import warnings\n",
    "import re\n",
    "import string\n",
    "warnings.filterwarnings('ignore')"
   ]
  },
  {
   "cell_type": "code",
   "execution_count": 9,
   "id": "22f48c27",
   "metadata": {},
   "outputs": [
    {
     "data": {
      "text/html": [
       "<div>\n",
       "<style scoped>\n",
       "    .dataframe tbody tr th:only-of-type {\n",
       "        vertical-align: middle;\n",
       "    }\n",
       "\n",
       "    .dataframe tbody tr th {\n",
       "        vertical-align: top;\n",
       "    }\n",
       "\n",
       "    .dataframe thead th {\n",
       "        text-align: right;\n",
       "    }\n",
       "</style>\n",
       "<table border=\"1\" class=\"dataframe\">\n",
       "  <thead>\n",
       "    <tr style=\"text-align: right;\">\n",
       "      <th></th>\n",
       "      <th>v1</th>\n",
       "      <th>v2</th>\n",
       "      <th>Unnamed: 2</th>\n",
       "      <th>Unnamed: 3</th>\n",
       "      <th>Unnamed: 4</th>\n",
       "    </tr>\n",
       "  </thead>\n",
       "  <tbody>\n",
       "    <tr>\n",
       "      <th>0</th>\n",
       "      <td>ham</td>\n",
       "      <td>Go until jurong point, crazy.. Available only ...</td>\n",
       "      <td>NaN</td>\n",
       "      <td>NaN</td>\n",
       "      <td>NaN</td>\n",
       "    </tr>\n",
       "    <tr>\n",
       "      <th>1</th>\n",
       "      <td>ham</td>\n",
       "      <td>Ok lar... Joking wif u oni...</td>\n",
       "      <td>NaN</td>\n",
       "      <td>NaN</td>\n",
       "      <td>NaN</td>\n",
       "    </tr>\n",
       "    <tr>\n",
       "      <th>2</th>\n",
       "      <td>spam</td>\n",
       "      <td>Free entry in 2 a wkly comp to win FA Cup fina...</td>\n",
       "      <td>NaN</td>\n",
       "      <td>NaN</td>\n",
       "      <td>NaN</td>\n",
       "    </tr>\n",
       "    <tr>\n",
       "      <th>3</th>\n",
       "      <td>ham</td>\n",
       "      <td>U dun say so early hor... U c already then say...</td>\n",
       "      <td>NaN</td>\n",
       "      <td>NaN</td>\n",
       "      <td>NaN</td>\n",
       "    </tr>\n",
       "    <tr>\n",
       "      <th>4</th>\n",
       "      <td>ham</td>\n",
       "      <td>Nah I don't think he goes to usf, he lives aro...</td>\n",
       "      <td>NaN</td>\n",
       "      <td>NaN</td>\n",
       "      <td>NaN</td>\n",
       "    </tr>\n",
       "    <tr>\n",
       "      <th>5</th>\n",
       "      <td>spam</td>\n",
       "      <td>FreeMsg Hey there darling it's been 3 week's n...</td>\n",
       "      <td>NaN</td>\n",
       "      <td>NaN</td>\n",
       "      <td>NaN</td>\n",
       "    </tr>\n",
       "    <tr>\n",
       "      <th>6</th>\n",
       "      <td>ham</td>\n",
       "      <td>Even my brother is not like to speak with me. ...</td>\n",
       "      <td>NaN</td>\n",
       "      <td>NaN</td>\n",
       "      <td>NaN</td>\n",
       "    </tr>\n",
       "    <tr>\n",
       "      <th>7</th>\n",
       "      <td>ham</td>\n",
       "      <td>As per your request 'Melle Melle (Oru Minnamin...</td>\n",
       "      <td>NaN</td>\n",
       "      <td>NaN</td>\n",
       "      <td>NaN</td>\n",
       "    </tr>\n",
       "    <tr>\n",
       "      <th>8</th>\n",
       "      <td>spam</td>\n",
       "      <td>WINNER!! As a valued network customer you have...</td>\n",
       "      <td>NaN</td>\n",
       "      <td>NaN</td>\n",
       "      <td>NaN</td>\n",
       "    </tr>\n",
       "    <tr>\n",
       "      <th>9</th>\n",
       "      <td>spam</td>\n",
       "      <td>Had your mobile 11 months or more? U R entitle...</td>\n",
       "      <td>NaN</td>\n",
       "      <td>NaN</td>\n",
       "      <td>NaN</td>\n",
       "    </tr>\n",
       "  </tbody>\n",
       "</table>\n",
       "</div>"
      ],
      "text/plain": [
       "     v1                                                 v2 Unnamed: 2  \\\n",
       "0   ham  Go until jurong point, crazy.. Available only ...        NaN   \n",
       "1   ham                      Ok lar... Joking wif u oni...        NaN   \n",
       "2  spam  Free entry in 2 a wkly comp to win FA Cup fina...        NaN   \n",
       "3   ham  U dun say so early hor... U c already then say...        NaN   \n",
       "4   ham  Nah I don't think he goes to usf, he lives aro...        NaN   \n",
       "5  spam  FreeMsg Hey there darling it's been 3 week's n...        NaN   \n",
       "6   ham  Even my brother is not like to speak with me. ...        NaN   \n",
       "7   ham  As per your request 'Melle Melle (Oru Minnamin...        NaN   \n",
       "8  spam  WINNER!! As a valued network customer you have...        NaN   \n",
       "9  spam  Had your mobile 11 months or more? U R entitle...        NaN   \n",
       "\n",
       "  Unnamed: 3 Unnamed: 4  \n",
       "0        NaN        NaN  \n",
       "1        NaN        NaN  \n",
       "2        NaN        NaN  \n",
       "3        NaN        NaN  \n",
       "4        NaN        NaN  \n",
       "5        NaN        NaN  \n",
       "6        NaN        NaN  \n",
       "7        NaN        NaN  \n",
       "8        NaN        NaN  \n",
       "9        NaN        NaN  "
      ]
     },
     "execution_count": 9,
     "metadata": {},
     "output_type": "execute_result"
    }
   ],
   "source": [
    "df = pd.read_csv('spam.csv')\n",
    "df.head(10)"
   ]
  },
  {
   "cell_type": "code",
   "execution_count": 10,
   "id": "02da0cde",
   "metadata": {},
   "outputs": [
    {
     "data": {
      "text/plain": [
       "v1               0\n",
       "v2               0\n",
       "Unnamed: 2    5522\n",
       "Unnamed: 3    5560\n",
       "Unnamed: 4    5566\n",
       "dtype: int64"
      ]
     },
     "execution_count": 10,
     "metadata": {},
     "output_type": "execute_result"
    }
   ],
   "source": [
    "df.isnull().sum()"
   ]
  },
  {
   "cell_type": "code",
   "execution_count": 11,
   "id": "4b349671",
   "metadata": {},
   "outputs": [
    {
     "data": {
      "text/plain": [
       "(5572, 5)"
      ]
     },
     "execution_count": 11,
     "metadata": {},
     "output_type": "execute_result"
    }
   ],
   "source": [
    "df.shape"
   ]
  },
  {
   "cell_type": "code",
   "execution_count": 12,
   "id": "3f97ef06",
   "metadata": {},
   "outputs": [
    {
     "data": {
      "text/html": [
       "<div>\n",
       "<style scoped>\n",
       "    .dataframe tbody tr th:only-of-type {\n",
       "        vertical-align: middle;\n",
       "    }\n",
       "\n",
       "    .dataframe tbody tr th {\n",
       "        vertical-align: top;\n",
       "    }\n",
       "\n",
       "    .dataframe thead th {\n",
       "        text-align: right;\n",
       "    }\n",
       "</style>\n",
       "<table border=\"1\" class=\"dataframe\">\n",
       "  <thead>\n",
       "    <tr style=\"text-align: right;\">\n",
       "      <th></th>\n",
       "      <th>v1</th>\n",
       "      <th>v2</th>\n",
       "    </tr>\n",
       "  </thead>\n",
       "  <tbody>\n",
       "    <tr>\n",
       "      <th>0</th>\n",
       "      <td>ham</td>\n",
       "      <td>Go until jurong point, crazy.. Available only ...</td>\n",
       "    </tr>\n",
       "    <tr>\n",
       "      <th>1</th>\n",
       "      <td>ham</td>\n",
       "      <td>Ok lar... Joking wif u oni...</td>\n",
       "    </tr>\n",
       "    <tr>\n",
       "      <th>2</th>\n",
       "      <td>spam</td>\n",
       "      <td>Free entry in 2 a wkly comp to win FA Cup fina...</td>\n",
       "    </tr>\n",
       "    <tr>\n",
       "      <th>3</th>\n",
       "      <td>ham</td>\n",
       "      <td>U dun say so early hor... U c already then say...</td>\n",
       "    </tr>\n",
       "    <tr>\n",
       "      <th>4</th>\n",
       "      <td>ham</td>\n",
       "      <td>Nah I don't think he goes to usf, he lives aro...</td>\n",
       "    </tr>\n",
       "  </tbody>\n",
       "</table>\n",
       "</div>"
      ],
      "text/plain": [
       "     v1                                                 v2\n",
       "0   ham  Go until jurong point, crazy.. Available only ...\n",
       "1   ham                      Ok lar... Joking wif u oni...\n",
       "2  spam  Free entry in 2 a wkly comp to win FA Cup fina...\n",
       "3   ham  U dun say so early hor... U c already then say...\n",
       "4   ham  Nah I don't think he goes to usf, he lives aro..."
      ]
     },
     "execution_count": 12,
     "metadata": {},
     "output_type": "execute_result"
    }
   ],
   "source": [
    "df = df.drop(['Unnamed: 2','Unnamed: 3','Unnamed: 4',],axis=1)\n",
    "df.head()"
   ]
  },
  {
   "cell_type": "code",
   "execution_count": 13,
   "id": "e1dcadeb",
   "metadata": {},
   "outputs": [
    {
     "data": {
      "text/html": [
       "<div>\n",
       "<style scoped>\n",
       "    .dataframe tbody tr th:only-of-type {\n",
       "        vertical-align: middle;\n",
       "    }\n",
       "\n",
       "    .dataframe tbody tr th {\n",
       "        vertical-align: top;\n",
       "    }\n",
       "\n",
       "    .dataframe thead th {\n",
       "        text-align: right;\n",
       "    }\n",
       "</style>\n",
       "<table border=\"1\" class=\"dataframe\">\n",
       "  <thead>\n",
       "    <tr style=\"text-align: right;\">\n",
       "      <th></th>\n",
       "      <th>v1</th>\n",
       "      <th>v2</th>\n",
       "      <th>Spam</th>\n",
       "    </tr>\n",
       "  </thead>\n",
       "  <tbody>\n",
       "    <tr>\n",
       "      <th>0</th>\n",
       "      <td>ham</td>\n",
       "      <td>Go until jurong point, crazy.. Available only ...</td>\n",
       "      <td>0</td>\n",
       "    </tr>\n",
       "    <tr>\n",
       "      <th>1</th>\n",
       "      <td>ham</td>\n",
       "      <td>Ok lar... Joking wif u oni...</td>\n",
       "      <td>0</td>\n",
       "    </tr>\n",
       "    <tr>\n",
       "      <th>2</th>\n",
       "      <td>spam</td>\n",
       "      <td>Free entry in 2 a wkly comp to win FA Cup fina...</td>\n",
       "      <td>1</td>\n",
       "    </tr>\n",
       "    <tr>\n",
       "      <th>3</th>\n",
       "      <td>ham</td>\n",
       "      <td>U dun say so early hor... U c already then say...</td>\n",
       "      <td>0</td>\n",
       "    </tr>\n",
       "    <tr>\n",
       "      <th>4</th>\n",
       "      <td>ham</td>\n",
       "      <td>Nah I don't think he goes to usf, he lives aro...</td>\n",
       "      <td>0</td>\n",
       "    </tr>\n",
       "  </tbody>\n",
       "</table>\n",
       "</div>"
      ],
      "text/plain": [
       "     v1                                                 v2  Spam\n",
       "0   ham  Go until jurong point, crazy.. Available only ...     0\n",
       "1   ham                      Ok lar... Joking wif u oni...     0\n",
       "2  spam  Free entry in 2 a wkly comp to win FA Cup fina...     1\n",
       "3   ham  U dun say so early hor... U c already then say...     0\n",
       "4   ham  Nah I don't think he goes to usf, he lives aro...     0"
      ]
     },
     "execution_count": 13,
     "metadata": {},
     "output_type": "execute_result"
    }
   ],
   "source": [
    "df['Spam']=df['v1'].apply(lambda x:1 if x=='spam' else 0)\n",
    "df.head(5)"
   ]
  },
  {
   "cell_type": "code",
   "execution_count": 14,
   "id": "6d1bbbf8",
   "metadata": {},
   "outputs": [],
   "source": [
    "from tensorflow.keras.layers import TextVectorization"
   ]
  },
  {
   "cell_type": "code",
   "execution_count": 15,
   "id": "c7d93462",
   "metadata": {},
   "outputs": [],
   "source": [
    "x = df['v2']\n",
    "y = df['Spam']"
   ]
  },
  {
   "cell_type": "code",
   "execution_count": 16,
   "id": "b9985a2a",
   "metadata": {},
   "outputs": [],
   "source": [
    "max_features = 200000\n",
    "vectorizer = TextVectorization(max_tokens=max_features, output_sequence_length=1800, output_mode='int')"
   ]
  },
  {
   "cell_type": "code",
   "execution_count": 17,
   "id": "64a38954",
   "metadata": {},
   "outputs": [],
   "source": [
    "vectorizer.adapt(x.values)\n",
    "vect_text = vectorizer(x.values)"
   ]
  },
  {
   "cell_type": "code",
   "execution_count": 18,
   "id": "351bf46d",
   "metadata": {},
   "outputs": [
    {
     "data": {
      "text/plain": [
       "<tf.Tensor: shape=(5572, 1800), dtype=int64, numpy=\n",
       "array([[  47,  445, 6997, ...,    0,    0,    0],\n",
       "       [  49,  316, 1503, ...,    0,    0,    0],\n",
       "       [  51,  469,   10, ...,    0,    0,    0],\n",
       "       ...,\n",
       "       [6074,   62,   10, ...,    0,    0,    0],\n",
       "       [   6,  500,  111, ...,    0,    0,    0],\n",
       "       [2389,   42,  478, ...,    0,    0,    0]], dtype=int64)>"
      ]
     },
     "execution_count": 18,
     "metadata": {},
     "output_type": "execute_result"
    }
   ],
   "source": [
    "vect_text"
   ]
  },
  {
   "cell_type": "code",
   "execution_count": 19,
   "id": "bbd45f87",
   "metadata": {},
   "outputs": [],
   "source": [
    "dataset = tf.data.Dataset.from_tensor_slices((vect_text, y))\n",
    "dataset = dataset.cache()\n",
    "dataset = dataset.shuffle(160000)\n",
    "dataset = dataset.batch(16)\n",
    "dataset = dataset.prefetch(8)"
   ]
  },
  {
   "cell_type": "code",
   "execution_count": 20,
   "id": "a9f4c4f6",
   "metadata": {},
   "outputs": [],
   "source": [
    "train = dataset.take(int(len(dataset)*0.7))\n",
    "val = dataset.skip(int(len(dataset)*0.7)).take(int(len(dataset)*0.2))\n",
    "test = dataset.skip(int(len(dataset)*0.9)).take(int(len(dataset)*0.1))"
   ]
  },
  {
   "cell_type": "code",
   "execution_count": 21,
   "id": "c0cbe061",
   "metadata": {},
   "outputs": [],
   "source": [
    "from tensorflow.keras.models import Sequential\n",
    "from tensorflow.keras.layers import LSTM, Dropout, Bidirectional, Dense, Embedding"
   ]
  },
  {
   "cell_type": "code",
   "execution_count": 22,
   "id": "d0921d44",
   "metadata": {},
   "outputs": [],
   "source": [
    "model = Sequential()\n",
    "# Create the embedding layer \n",
    "model.add(Embedding(max_features+1, 32))\n",
    "# Bidirectional LSTM Layer\n",
    "model.add(Bidirectional(LSTM(32, activation='tanh')))\n",
    "# Feature extractor Fully connected layers\n",
    "model.add(Dense(128, activation='relu'))\n",
    "model.add(Dense(256, activation='relu'))\n",
    "model.add(Dense(128, activation='relu'))\n",
    "# Final layer \n",
    "model.add(Dense(1, activation='sigmoid'))"
   ]
  },
  {
   "cell_type": "code",
   "execution_count": 23,
   "id": "459c29e8",
   "metadata": {},
   "outputs": [],
   "source": [
    "model.compile(loss='BinaryCrossentropy', optimizer='Adam')"
   ]
  },
  {
   "cell_type": "code",
   "execution_count": 24,
   "id": "95d68bb3",
   "metadata": {},
   "outputs": [
    {
     "name": "stdout",
     "output_type": "stream",
     "text": [
      "Model: \"sequential\"\n",
      "_________________________________________________________________\n",
      " Layer (type)                Output Shape              Param #   \n",
      "=================================================================\n",
      " embedding (Embedding)       (None, None, 32)          6400032   \n",
      "                                                                 \n",
      " bidirectional (Bidirectiona  (None, 64)               16640     \n",
      " l)                                                              \n",
      "                                                                 \n",
      " dense (Dense)               (None, 128)               8320      \n",
      "                                                                 \n",
      " dense_1 (Dense)             (None, 256)               33024     \n",
      "                                                                 \n",
      " dense_2 (Dense)             (None, 128)               32896     \n",
      "                                                                 \n",
      " dense_3 (Dense)             (None, 1)                 129       \n",
      "                                                                 \n",
      "=================================================================\n",
      "Total params: 6,491,041\n",
      "Trainable params: 6,491,041\n",
      "Non-trainable params: 0\n",
      "_________________________________________________________________\n"
     ]
    }
   ],
   "source": [
    "model.summary()"
   ]
  },
  {
   "cell_type": "code",
   "execution_count": 25,
   "id": "93517595",
   "metadata": {},
   "outputs": [
    {
     "name": "stdout",
     "output_type": "stream",
     "text": [
      "Epoch 1/4\n",
      "244/244 [==============================] - 239s 955ms/step - loss: 0.1623 - val_loss: 0.0385\n",
      "Epoch 2/4\n",
      "244/244 [==============================] - 242s 992ms/step - loss: 0.0426 - val_loss: 0.0243\n",
      "Epoch 3/4\n",
      "244/244 [==============================] - 237s 972ms/step - loss: 0.0162 - val_loss: 0.0044\n",
      "Epoch 4/4\n",
      "244/244 [==============================] - 238s 976ms/step - loss: 0.0089 - val_loss: 0.0010\n"
     ]
    }
   ],
   "source": [
    "history = model.fit(train, epochs=4, validation_data=val)"
   ]
  },
  {
   "cell_type": "code",
   "execution_count": 26,
   "id": "302dbf3b",
   "metadata": {},
   "outputs": [
    {
     "data": {
      "text/plain": [
       "<Figure size 576x360 with 0 Axes>"
      ]
     },
     "metadata": {},
     "output_type": "display_data"
    },
    {
     "data": {
      "image/png": "[encoded data removed]",
      "text/plain": [
       "<Figure size 432x288 with 1 Axes>"
      ]
     },
     "metadata": {
      "needs_background": "light"
     },
     "output_type": "display_data"
    }
   ],
   "source": [
    "from matplotlib import pyplot as plt\n",
    "plt.figure(figsize=(8,5))\n",
    "pd.DataFrame(history.history).plot()\n",
    "plt.show()"
   ]
  },
  {
   "cell_type": "code",
   "execution_count": 27,
   "id": "df2cc5df",
   "metadata": {},
   "outputs": [
    {
     "name": "stdout",
     "output_type": "stream",
     "text": [
      "1/1 [==============================] - 1s 967ms/step\n"
     ]
    },
    {
     "data": {
      "text/plain": [
       "array([[0],\n",
       "       [0],\n",
       "       [0],\n",
       "       [0],\n",
       "       [0],\n",
       "       [0],\n",
       "       [0],\n",
       "       [0],\n",
       "       [0],\n",
       "       [0],\n",
       "       [0],\n",
       "       [0],\n",
       "       [1],\n",
       "       [0],\n",
       "       [0],\n",
       "       [1]])"
      ]
     },
     "execution_count": 27,
     "metadata": {},
     "output_type": "execute_result"
    }
   ],
   "source": [
    "batch_X, batch_y = test.as_numpy_iterator().next()\n",
    "(model.predict(batch_X) > 0.5).astype(int)"
   ]
  },
  {
   "cell_type": "code",
   "execution_count": 28,
   "id": "36e7e562",
   "metadata": {},
   "outputs": [],
   "source": [
    "from tensorflow.keras.metrics import Precision, Recall, CategoricalAccuracy\n",
    "pre = Precision()\n",
    "re = Recall()\n",
    "acc = CategoricalAccuracy()"
   ]
  },
  {
   "cell_type": "code",
   "execution_count": 29,
   "id": "82dbab23",
   "metadata": {},
   "outputs": [
    {
     "name": "stdout",
     "output_type": "stream",
     "text": [
      "1/1 [==============================] - 0s 156ms/step\n",
      "1/1 [==============================] - 0s 160ms/step\n",
      "1/1 [==============================] - 0s 149ms/step\n",
      "1/1 [==============================] - 0s 155ms/step\n",
      "1/1 [==============================] - 0s 156ms/step\n",
      "1/1 [==============================] - 0s 185ms/step\n",
      "1/1 [==============================] - 0s 146ms/step\n",
      "1/1 [==============================] - 0s 184ms/step\n",
      "1/1 [==============================] - 0s 183ms/step\n",
      "1/1 [==============================] - 0s 168ms/step\n",
      "1/1 [==============================] - 0s 160ms/step\n",
      "1/1 [==============================] - 0s 177ms/step\n",
      "1/1 [==============================] - 0s 147ms/step\n",
      "1/1 [==============================] - 0s 160ms/step\n",
      "1/1 [==============================] - 0s 154ms/step\n",
      "1/1 [==============================] - 0s 154ms/step\n",
      "1/1 [==============================] - 0s 148ms/step\n",
      "1/1 [==============================] - 0s 148ms/step\n",
      "1/1 [==============================] - 0s 156ms/step\n",
      "1/1 [==============================] - 0s 152ms/step\n",
      "1/1 [==============================] - 0s 151ms/step\n",
      "1/1 [==============================] - 0s 155ms/step\n",
      "1/1 [==============================] - 0s 154ms/step\n",
      "1/1 [==============================] - 0s 156ms/step\n",
      "1/1 [==============================] - 0s 151ms/step\n",
      "1/1 [==============================] - 0s 152ms/step\n",
      "1/1 [==============================] - 0s 153ms/step\n",
      "1/1 [==============================] - 0s 143ms/step\n",
      "1/1 [==============================] - 0s 167ms/step\n",
      "1/1 [==============================] - 0s 149ms/step\n",
      "1/1 [==============================] - 0s 157ms/step\n",
      "1/1 [==============================] - 0s 156ms/step\n",
      "1/1 [==============================] - 0s 146ms/step\n",
      "1/1 [==============================] - 0s 148ms/step\n",
      "Precision: 1.0, Recall:0.9838709831237793, Accuracy:0.7647058963775635\n"
     ]
    }
   ],
   "source": [
    "for batch in test.as_numpy_iterator(): \n",
    "    # Unpack the batch \n",
    "    X_true, y_true = batch\n",
    "    # Make a prediction \n",
    "    yhat = model.predict(X_true)\n",
    "    \n",
    "    # Flatten the predictions\n",
    "    y_true = y_true.flatten()\n",
    "    yhat = yhat.flatten()\n",
    "    \n",
    "    pre.update_state(y_true, yhat)\n",
    "    re.update_state(y_true, yhat)\n",
    "    acc.update_state(y_true, yhat)\n",
    "print(f'Precision: {pre.result().numpy()}, Recall:{re.result().numpy()}, Accuracy:{acc.result().numpy()}')"
   ]
  },
  {
   "cell_type": "code",
   "execution_count": 30,
   "id": "89fb2efe",
   "metadata": {},
   "outputs": [],
   "source": [
    "model.save('spam.h5')"
   ]
  },
  {
   "cell_type": "markdown",
   "id": "794f4d89",
   "metadata": {},
   "source": [
    "### Let's Try Simple Classification Algorithms"
   ]
  },
  {
   "cell_type": "code",
   "execution_count": 52,
   "id": "c698ca8e",
   "metadata": {},
   "outputs": [],
   "source": [
    "# let's define a function for text processing\n",
    "import re\n",
    "import string\n",
    "def text_process(text):\n",
    "    text = text.lower()\n",
    "    text = re.sub('\\[.*/?\\]', '', text)\n",
    "    text = re.sub('\\\\W', ' ', text)\n",
    "    text = re.sub('https?://\\S+|www\\.\\S+', '', text)\n",
    "    text = re.sub('<.*?>+', '' ,text)\n",
    "    text = re.sub('[%s]' % re.escape(string.punctuation), '' ,text)\n",
    "    text = re.sub('\\n', '' ,text)\n",
    "    text = re.sub('\\w*\\d\\w*', '', text)\n",
    "    return text"
   ]
  },
  {
   "cell_type": "code",
   "execution_count": 53,
   "id": "95747fa0",
   "metadata": {},
   "outputs": [],
   "source": [
    "x = x.apply(text_process)"
   ]
  },
  {
   "cell_type": "code",
   "execution_count": 54,
   "id": "1b28cd16",
   "metadata": {},
   "outputs": [],
   "source": [
    "x_train, x_test, y_train, y_test = train_test_split(x,y, test_size=0.3)"
   ]
  },
  {
   "cell_type": "code",
   "execution_count": 55,
   "id": "a049d305",
   "metadata": {},
   "outputs": [],
   "source": [
    "from sklearn.feature_extraction.text import TfidfVectorizer\n",
    "vector = TfidfVectorizer()\n",
    "xv_train = vector.fit_transform(x_train)\n",
    "xv_test = vector.transform(x_test)"
   ]
  },
  {
   "cell_type": "code",
   "execution_count": 56,
   "id": "b2f427fd",
   "metadata": {},
   "outputs": [
    {
     "data": {
      "text/plain": [
       "LogisticRegression()"
      ]
     },
     "execution_count": 56,
     "metadata": {},
     "output_type": "execute_result"
    }
   ],
   "source": [
    "Lr = LogisticRegression()\n",
    "Lr.fit(xv_train, y_train)"
   ]
  },
  {
   "cell_type": "code",
   "execution_count": 57,
   "id": "e89693be",
   "metadata": {},
   "outputs": [
    {
     "data": {
      "text/plain": [
       "0.9688995215311005"
      ]
     },
     "execution_count": 57,
     "metadata": {},
     "output_type": "execute_result"
    }
   ],
   "source": [
    "pred = Lr.predict(xv_test)\n",
    "Lr.score(xv_test, y_test)"
   ]
  },
  {
   "cell_type": "code",
   "execution_count": 58,
   "id": "22a2fb62",
   "metadata": {},
   "outputs": [],
   "source": [
    "# Let's try multiple algorithms to see which performs best\n",
    "#Creating a function within many Machine Learning Models\n",
    "def models(xv_train,y_train):\n",
    "  \n",
    "    #Using Logistic Regression Algorithm to the Training Set\n",
    "    from sklearn.linear_model import LogisticRegression\n",
    "    log = LogisticRegression()\n",
    "    log.fit(xv_train, y_train)\n",
    "\n",
    "    #Using KNeighborsClassifier Method of neighbors class to use Nearest Neighbor algorithm\n",
    "    from sklearn.neighbors import KNeighborsClassifier\n",
    "    knn = KNeighborsClassifier()\n",
    "    knn.fit(xv_train,y_train)\n",
    "\n",
    "    #Using SVC method of svm class to use Kernel SVM Algorithm\n",
    "    from sklearn.svm import SVC\n",
    "    svc_rbf = SVC()\n",
    "    svc_rbf.fit(xv_train, y_train)\n",
    "\n",
    "    #Using XGBoost Algorithm\n",
    "    from sklearn.ensemble import AdaBoostClassifier\n",
    "    ada = AdaBoostClassifier()\n",
    "    ada.fit(xv_train, y_train)\n",
    "\n",
    "    #Using DecisionTreeClassifier of tree class to use Decision Tree Algorithm\n",
    "    from sklearn.tree import DecisionTreeClassifier\n",
    "    tree = DecisionTreeClassifier()\n",
    "    tree.fit(xv_train, y_train)\n",
    "\n",
    "    #Using RandomForestClassifier method of ensemble class to use Random Forest Classification algorithm\n",
    "    from sklearn.ensemble import RandomForestClassifier\n",
    "    forest = RandomForestClassifier()\n",
    "    forest.fit(xv_train, y_train)\n",
    "\n",
    "    #print model accuracy on the training data.\n",
    "    print('[0]Logistic Regression Training Accuracy:', log.score(xv_train, y_train))\n",
    "    print('[1]K Nearest Neighbor Training Accuracy:', knn.score(xv_train, y_train))\n",
    "    print('[2]Support Vector Machine (RBF Classifier) Training Accuracy:', svc_rbf.score(xv_train, y_train))\n",
    "    print('[3]Ada Boost Training Accuracy:', ada.score(xv_train, y_train))\n",
    "    print('[4]Decision Tree Classifier Training Accuracy:', tree.score(xv_train, y_train))\n",
    "    print('[5]Random Forest Classifier Training Accuracy:', forest.score(xv_train, y_train))\n",
    "\n",
    "    return log, knn, svc_rbf, ada, tree, forest"
   ]
  },
  {
   "cell_type": "code",
   "execution_count": 59,
   "id": "526aceef",
   "metadata": {},
   "outputs": [
    {
     "name": "stdout",
     "output_type": "stream",
     "text": [
      "[0]Logistic Regression Training Accuracy: 0.9756410256410256\n",
      "[1]K Nearest Neighbor Training Accuracy: 0.9402564102564103\n",
      "[2]Support Vector Machine (RBF Classifier) Training Accuracy: 0.9964102564102564\n",
      "[3]Ada Boost Training Accuracy: 0.9797435897435898\n",
      "[4]Decision Tree Classifier Training Accuracy: 0.9997435897435898\n",
      "[5]Random Forest Classifier Training Accuracy: 0.9994871794871795\n"
     ]
    }
   ],
   "source": [
    "model = models(xv_train,y_train)"
   ]
  },
  {
   "cell_type": "code",
   "execution_count": 60,
   "id": "2da65054",
   "metadata": {},
   "outputs": [
    {
     "name": "stdout",
     "output_type": "stream",
     "text": [
      "[[1456    5]\n",
      " [  47  164]]\n",
      "Model[0] Testing Accuracy = \"0.9688995215311005 !\"\n",
      "\n",
      "[[1461    0]\n",
      " [ 128   83]]\n",
      "Model[1] Testing Accuracy = \"0.9234449760765551 !\"\n",
      "\n",
      "[[1457    4]\n",
      " [  31  180]]\n",
      "Model[2] Testing Accuracy = \"0.979066985645933 !\"\n",
      "\n",
      "[[1434   27]\n",
      " [  34  177]]\n",
      "Model[3] Testing Accuracy = \"0.9635167464114832 !\"\n",
      "\n",
      "[[1428   33]\n",
      " [  33  178]]\n",
      "Model[4] Testing Accuracy = \"0.9605263157894737 !\"\n",
      "\n",
      "[[1459    2]\n",
      " [  40  171]]\n",
      "Model[5] Testing Accuracy = \"0.9748803827751196 !\"\n",
      "\n"
     ]
    }
   ],
   "source": [
    "for i in range(len(model)):\n",
    "    cm = confusion_matrix(y_test, model[i].predict(xv_test)) \n",
    "    #extracting TN, FP, FN, TP\n",
    "    TN, FP, FN, TP = confusion_matrix(y_test, model[i].predict(xv_test)).ravel()\n",
    "    print(cm)\n",
    "    print('Model[{}] Testing Accuracy = \"{} !\"'.format(i,  (TP + TN) / (TP + TN + FN + FP)))\n",
    "    print()"
   ]
  },
  {
   "cell_type": "code",
   "execution_count": 66,
   "id": "e240c437",
   "metadata": {},
   "outputs": [],
   "source": [
    "xv = vector.fit_transform(x)"
   ]
  },
  {
   "cell_type": "code",
   "execution_count": 62,
   "id": "4c780046",
   "metadata": {},
   "outputs": [
    {
     "name": "stdout",
     "output_type": "stream",
     "text": [
      "{'criterion': 'gini', 'max_features': 'sqrt', 'n_estimators': 53}\n"
     ]
    }
   ],
   "source": [
    "# Regularization Random Forest Classifier\n",
    "from sklearn.model_selection import GridSearchCV\n",
    "from sklearn.ensemble import RandomForestClassifier\n",
    "parameters = {'criterion':['gini', 'entropy', 'log_loss'],\n",
    "             'n_estimators':list(range(10,100)),\n",
    "             'max_features':['sqrt', 'log2']}\n",
    "rf = RandomForestClassifier()\n",
    "clf = GridSearchCV(rf,parameters)\n",
    "clf.fit(xv_train,y_train)\n",
    "print(clf.best_params_)"
   ]
  },
  {
   "cell_type": "code",
   "execution_count": 67,
   "id": "7ce0ef24",
   "metadata": {},
   "outputs": [
    {
     "name": "stdout",
     "output_type": "stream",
     "text": [
      "96.77033492822966\n",
      "96.8593280788336\n"
     ]
    }
   ],
   "source": [
    "rf = RandomForestClassifier(criterion='gini',max_features='log2', n_estimators=67)\n",
    "rf.fit(xv_train,y_train)\n",
    "rf.score(xv_train,y_train)\n",
    "pred_dec = rf.predict(xv_test)\n",
    "\n",
    "rfs = accuracy_score(y_test, pred_dec)\n",
    "print(rfs*100)\n",
    "\n",
    "rfscore = cross_val_score(rf,xv,y,cv=5)\n",
    "rfc = rfscore.mean()\n",
    "print(rfc*100)"
   ]
  },
  {
   "cell_type": "code",
   "execution_count": 68,
   "id": "c4ee1680",
   "metadata": {},
   "outputs": [
    {
     "name": "stdout",
     "output_type": "stream",
     "text": [
      "{'fit_intercept': False, 'intercept_scaling': 1, 'penalty': 'none'}\n"
     ]
    }
   ],
   "source": [
    "# Regularization Logistic Regression\n",
    "from sklearn.linear_model import LogisticRegression\n",
    "parameters = {'fit_intercept':[True,False],\n",
    "             'intercept_scaling':list(range(1,10)),\n",
    "             'penalty':['l1', 'l2', 'elasticnet', 'none']}\n",
    "lr = LogisticRegression()\n",
    "clf = GridSearchCV(lr,parameters)\n",
    "clf.fit(xv_train,y_train)\n",
    "print(clf.best_params_)"
   ]
  },
  {
   "cell_type": "code",
   "execution_count": 69,
   "id": "cb4308c4",
   "metadata": {},
   "outputs": [
    {
     "name": "stdout",
     "output_type": "stream",
     "text": [
      "96.88995215311004\n",
      "96.33892328376714\n"
     ]
    }
   ],
   "source": [
    "lr = LogisticRegression(fit_intercept:='l2', intercept_scaling=1)\n",
    "lr.fit(xv_train,y_train)\n",
    "lr.score(xv_train,y_train)\n",
    "pred_dec = lr.predict(xv_test)\n",
    "\n",
    "lrs = accuracy_score(y_test, pred_dec)\n",
    "print(lrs*100)\n",
    "\n",
    "lrscore = cross_val_score(lr,xv,y,cv=5)\n",
    "lrc = lrscore.mean()\n",
    "print(lrc*100)"
   ]
  },
  {
   "cell_type": "code",
   "execution_count": 70,
   "id": "2a08b788",
   "metadata": {},
   "outputs": [
    {
     "name": "stdout",
     "output_type": "stream",
     "text": [
      "{'learning_rate': 1.0, 'n_estimators': 10, 'random_state': 1}\n"
     ]
    }
   ],
   "source": [
    "# Regularization Adaboost Classifier\n",
    "from sklearn.ensemble import AdaBoostClassifier\n",
    "parameters = {'learning_rate':[0.001,0.01,0.1,1.0,10],\n",
    "             'n_estimators':[0.001,0.01, 0.1,1.0,10],\n",
    "             'random_state':list(range(1,100))}\n",
    "ab = AdaBoostClassifier()\n",
    "clf = GridSearchCV(ab,parameters)\n",
    "clf.fit(xv_train,y_train)\n",
    "print(clf.best_params_)"
   ]
  },
  {
   "cell_type": "code",
   "execution_count": 71,
   "id": "59f73e26",
   "metadata": {},
   "outputs": [
    {
     "name": "stdout",
     "output_type": "stream",
     "text": [
      "94.31818181818183\n",
      "94.04149390955713\n"
     ]
    }
   ],
   "source": [
    "ab = AdaBoostClassifier(learning_rate=1.0,random_state=1,n_estimators=10)\n",
    "ab.fit(xv_train,y_train)\n",
    "ab.score(xv_train,y_train)\n",
    "pred_dec = ab.predict(xv_test)\n",
    "\n",
    "absc = accuracy_score(y_test, pred_dec)\n",
    "print(absc*100)\n",
    "\n",
    "abscore = cross_val_score(ab,xv,y,cv=5)\n",
    "abc = abscore.mean()\n",
    "print(abc*100)"
   ]
  },
  {
   "cell_type": "code",
   "execution_count": 72,
   "id": "8b5c8f5b",
   "metadata": {},
   "outputs": [
    {
     "name": "stdout",
     "output_type": "stream",
     "text": [
      "{'criterion': 'entropy', 'min_samples_split': 3, 'splitter': 'random'}\n"
     ]
    }
   ],
   "source": [
    "# Regularization Decision Tree Classifier\n",
    "from sklearn.tree import DecisionTreeClassifier\n",
    "parameters = {'splitter':['best', 'random'],\n",
    "             'min_samples_split':list(range(1,10)),\n",
    "             'criterion':['gini', 'entropy', 'log_loss']}\n",
    "dt = DecisionTreeClassifier()\n",
    "clf = GridSearchCV(dt,parameters)\n",
    "clf.fit(xv_train,y_train)\n",
    "print(clf.best_params_)"
   ]
  },
  {
   "cell_type": "code",
   "execution_count": 73,
   "id": "2ff5bcda",
   "metadata": {},
   "outputs": [
    {
     "name": "stdout",
     "output_type": "stream",
     "text": [
      "96.41148325358851\n",
      "96.33866565763097\n"
     ]
    }
   ],
   "source": [
    "dt = DecisionTreeClassifier(criterion='entropy', min_samples_split=3, splitter='random')\n",
    "dt.fit(xv_train,y_train)\n",
    "dt.score(xv_train,y_train)\n",
    "pred_dec = dt.predict(xv_test)\n",
    "\n",
    "dtsc = accuracy_score(y_test, pred_dec)\n",
    "print(dtsc*100)\n",
    "\n",
    "dtscore = cross_val_score(dt,xv,y,cv=5)\n",
    "dtc = dtscore.mean()\n",
    "print(dtc*100)"
   ]
  },
  {
   "cell_type": "code",
   "execution_count": 74,
   "id": "68803255",
   "metadata": {},
   "outputs": [
    {
     "name": "stdout",
     "output_type": "stream",
     "text": [
      "{'gamma': 'scale', 'kernel': 'sigmoid', 'random_state': 1}\n"
     ]
    }
   ],
   "source": [
    "# Regularization Support Vector Machine\n",
    "from sklearn.svm import SVC\n",
    "\n",
    "parameters = {'random_state': list(range(1,100)),\n",
    "             'kernel':['poly', 'rbf', 'sigmoid'],\n",
    "             'gamma':['scale', 'auto']}\n",
    "svc = SVC()\n",
    "clf = GridSearchCV(svc,parameters)\n",
    "clf.fit(xv_train,y_train)\n",
    "print(clf.best_params_)"
   ]
  },
  {
   "cell_type": "code",
   "execution_count": 78,
   "id": "161ad46d",
   "metadata": {},
   "outputs": [
    {
     "name": "stdout",
     "output_type": "stream",
     "text": [
      "98.44497607655502\n",
      "98.24117026672357\n"
     ]
    }
   ],
   "source": [
    "svc = SVC(gamma='scale', kernel='sigmoid', random_state=1)\n",
    "svc.fit(xv_train,y_train)\n",
    "svc.score(xv_train,y_train)\n",
    "pred_dec = svc.predict(xv_test)\n",
    "\n",
    "svsc = accuracy_score(y_test, pred_dec)\n",
    "print(svsc*100)\n",
    "\n",
    "svscore = cross_val_score(svc,xv,y,cv=5)\n",
    "svs = svscore.mean()\n",
    "print(svs*100)"
   ]
  },
  {
   "cell_type": "code",
   "execution_count": 76,
   "id": "4bc29aae",
   "metadata": {},
   "outputs": [
    {
     "name": "stdout",
     "output_type": "stream",
     "text": [
      "{'algorithm': 'auto', 'n_neighbors': 9, 'weights': 'distance'}\n"
     ]
    }
   ],
   "source": [
    "# Regularization K Nearest Neighbor\n",
    "from sklearn.neighbors import KNeighborsClassifier\n",
    "parameters = {'weights':['uniform', 'distance'],\n",
    "             'n_neighbors':list(range(1,10)),\n",
    "             'algorithm':['auto', 'ball_tree', 'kd_tree','brute']}\n",
    "knn = KNeighborsClassifier()\n",
    "clf = GridSearchCV(knn,parameters)\n",
    "clf.fit(xv_train,y_train)\n",
    "print(clf.best_params_)"
   ]
  },
  {
   "cell_type": "code",
   "execution_count": 79,
   "id": "7c676cb7",
   "metadata": {},
   "outputs": [
    {
     "name": "stdout",
     "output_type": "stream",
     "text": [
      "96.41148325358851\n",
      "95.74683401631094\n"
     ]
    }
   ],
   "source": [
    "knn = KNeighborsClassifier(algorithm='auto',n_neighbors=9, weights='distance')\n",
    "knn.fit(xv_train,y_train)\n",
    "knn.score(xv_train,y_train)\n",
    "pred_dec = dt.predict(xv_test)\n",
    "\n",
    "knnc = accuracy_score(y_test, pred_dec)\n",
    "print(knnc*100)\n",
    "\n",
    "knnscore = cross_val_score(knn,xv,y,cv=5)\n",
    "knc = knnscore.mean()\n",
    "print(knc*100)"
   ]
  },
  {
   "cell_type": "code",
   "execution_count": null,
   "id": "7f2dc809",
   "metadata": {},
   "outputs": [],
   "source": [
    "# saving the best model\n",
    "import pickle\n",
    "pickle.dump(svc, open('hrattrition.pkl','wb'))"
   ]
  },
  {
   "cell_type": "code",
   "execution_count": null,
   "id": "7ab36d25",
   "metadata": {},
   "outputs": [],
   "source": []
  },
  {
   "cell_type": "code",
   "execution_count": null,
   "id": "38ca043e",
   "metadata": {},
   "outputs": [],
   "source": []
  }
 ],
 "metadata": {
  "kernelspec": {
   "display_name": "Python 3",
   "language": "python",
   "name": "python3"
  },
  "language_info": {
   "codemirror_mode": {
    "name": "ipython",
    "version": 3
   },
   "file_extension": ".py",
   "mimetype": "text/x-python",
   "name": "python",
   "nbconvert_exporter": "python",
   "pygments_lexer": "ipython3",
   "version": "3.8.8"
  }
 },
 "nbformat": 4,
 "nbformat_minor": 5
}
