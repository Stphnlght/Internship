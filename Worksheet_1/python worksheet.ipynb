{
 "cells": [
  {
   "cell_type": "markdown",
   "id": "0de50254",
   "metadata": {},
   "source": [
    "# Factorial"
   ]
  },
  {
   "cell_type": "code",
   "execution_count": 7,
   "id": "34ff9a91",
   "metadata": {},
   "outputs": [],
   "source": [
    "## Using math Library\n",
    "import math"
   ]
  },
  {
   "cell_type": "code",
   "execution_count": 45,
   "id": "396e2e5d",
   "metadata": {},
   "outputs": [],
   "source": [
    "def factorial_(number):\n",
    "    if number < 0:\n",
    "        print('Please input a number >= 0')\n",
    "    else:\n",
    "        return math.factorial(number)"
   ]
  },
  {
   "cell_type": "code",
   "execution_count": 38,
   "id": "6c89b6e7",
   "metadata": {},
   "outputs": [
    {
     "data": {
      "text/plain": [
       "720"
      ]
     },
     "execution_count": 38,
     "metadata": {},
     "output_type": "execute_result"
    }
   ],
   "source": [
    "factorial_(6)"
   ]
  },
  {
   "cell_type": "code",
   "execution_count": 55,
   "id": "e364c018",
   "metadata": {},
   "outputs": [
    {
     "name": "stdout",
     "output_type": "stream",
     "text": [
      "Please input a number >= 0\n"
     ]
    }
   ],
   "source": [
    "factorial_(-1)"
   ]
  },
  {
   "cell_type": "code",
   "execution_count": 52,
   "id": "c8f95832",
   "metadata": {},
   "outputs": [],
   "source": [
    "## Hard Coded\n",
    "def factorial_1(number):\n",
    "    factorial = 1\n",
    "    if number < 0:\n",
    "        print('Please input a number >= 0')\n",
    "    else:\n",
    "        for i in range(1, number + 1):\n",
    "            factorial = factorial * i\n",
    "        return factorial"
   ]
  },
  {
   "cell_type": "code",
   "execution_count": 42,
   "id": "28e03bd3",
   "metadata": {},
   "outputs": [
    {
     "data": {
      "text/plain": [
       "720"
      ]
     },
     "execution_count": 42,
     "metadata": {},
     "output_type": "execute_result"
    }
   ],
   "source": [
    "factorial_1(6)"
   ]
  },
  {
   "cell_type": "code",
   "execution_count": 56,
   "id": "f0e23e28",
   "metadata": {},
   "outputs": [
    {
     "name": "stdout",
     "output_type": "stream",
     "text": [
      "Please input a number < 0\n"
     ]
    }
   ],
   "source": [
    "factorial_1(-3)"
   ]
  },
  {
   "cell_type": "markdown",
   "id": "b1a7716f",
   "metadata": {},
   "source": [
    "# Prime or Compossite Number"
   ]
  },
  {
   "cell_type": "code",
   "execution_count": 65,
   "id": "5694676d",
   "metadata": {},
   "outputs": [],
   "source": [
    "def prime_comp(number):\n",
    "    if number <= 1:\n",
    "        print(\"Please enter a number > 1\")\n",
    "    elif number > 1:\n",
    "        for i in range(2, number):\n",
    "            if (number % i == 0):\n",
    "                print(number, 'is a composite number')\n",
    "                break\n",
    "        else:\n",
    "            print(number, 'is a prime number')"
   ]
  },
  {
   "cell_type": "code",
   "execution_count": 66,
   "id": "27acdcab",
   "metadata": {},
   "outputs": [
    {
     "name": "stdout",
     "output_type": "stream",
     "text": [
      "5 is a prime number\n"
     ]
    }
   ],
   "source": [
    "prime_comp(5)"
   ]
  },
  {
   "cell_type": "code",
   "execution_count": 63,
   "id": "5c80835c",
   "metadata": {},
   "outputs": [
    {
     "name": "stdout",
     "output_type": "stream",
     "text": [
      "Please enter a number > 1\n"
     ]
    }
   ],
   "source": [
    "prime_comp(0)"
   ]
  },
  {
   "cell_type": "code",
   "execution_count": 64,
   "id": "88d024e5",
   "metadata": {},
   "outputs": [
    {
     "name": "stdout",
     "output_type": "stream",
     "text": [
      "Please enter a number > 1\n"
     ]
    }
   ],
   "source": [
    "prime_comp(-5)"
   ]
  },
  {
   "cell_type": "markdown",
   "id": "9410c073",
   "metadata": {},
   "source": [
    "# Palindrome String"
   ]
  },
  {
   "cell_type": "code",
   "execution_count": 75,
   "id": "8fc82401",
   "metadata": {},
   "outputs": [],
   "source": [
    "## Using a for loop\n",
    "def palindrome(str):\n",
    "    word = \"\"\n",
    "    for i in str:\n",
    "        word = i + word\n",
    "    if str == word:\n",
    "        print('string is palindrome')\n",
    "    else:\n",
    "        print('string is not palindrome')"
   ]
  },
  {
   "cell_type": "code",
   "execution_count": 76,
   "id": "434b1716",
   "metadata": {},
   "outputs": [
    {
     "name": "stdout",
     "output_type": "stream",
     "text": [
      "string is palindrome\n"
     ]
    }
   ],
   "source": [
    "palindrome('radar')"
   ]
  },
  {
   "cell_type": "code",
   "execution_count": 78,
   "id": "421a4000",
   "metadata": {},
   "outputs": [
    {
     "name": "stdout",
     "output_type": "stream",
     "text": [
      "string is not palindrome\n"
     ]
    }
   ],
   "source": [
    "palindrome('python')"
   ]
  },
  {
   "cell_type": "code",
   "execution_count": 82,
   "id": "02d04910",
   "metadata": {},
   "outputs": [],
   "source": [
    "## Using reverse indices\n",
    "def palindrome_1(str):\n",
    "    word = str[::-1]\n",
    "    if word == str:\n",
    "        print('string is palindrome')\n",
    "    else:\n",
    "        print('string is not palindrome')\n",
    "    "
   ]
  },
  {
   "cell_type": "code",
   "execution_count": 83,
   "id": "9ace800c",
   "metadata": {},
   "outputs": [
    {
     "name": "stdout",
     "output_type": "stream",
     "text": [
      "string is palindrome\n"
     ]
    }
   ],
   "source": [
    "palindrome_1('radar')"
   ]
  },
  {
   "cell_type": "markdown",
   "id": "29a428bf",
   "metadata": {},
   "source": [
    "# Angle of A Triangle"
   ]
  },
  {
   "cell_type": "code",
   "execution_count": 122,
   "id": "fe838d09",
   "metadata": {},
   "outputs": [],
   "source": [
    "def calculate_angle(first_angle, second_angle):\n",
    "    angles_sum = 180\n",
    "    two_angles_sum = first_angle + second_angle\n",
    "    third_angle = angles_sum - two_angles_sum\n",
    "    print(third_angle)"
   ]
  },
  {
   "cell_type": "code",
   "execution_count": 123,
   "id": "37cefcfc",
   "metadata": {},
   "outputs": [
    {
     "name": "stdout",
     "output_type": "stream",
     "text": [
      "75\n"
     ]
    }
   ],
   "source": [
    "calculate_angle(25, 80)"
   ]
  },
  {
   "cell_type": "markdown",
   "id": "4c5ae743",
   "metadata": {},
   "source": [
    "# String Character Count"
   ]
  },
  {
   "cell_type": "code",
   "execution_count": 124,
   "id": "c133a5e5",
   "metadata": {},
   "outputs": [],
   "source": [
    "def count_frequency(string):\n",
    "    character_set = set(string)\n",
    "    character = \"\".join(character_set)\n",
    "    for i in character:\n",
    "        print(i, string.count(i))"
   ]
  },
  {
   "cell_type": "code",
   "execution_count": 125,
   "id": "10dcf811",
   "metadata": {},
   "outputs": [
    {
     "name": "stdout",
     "output_type": "stream",
     "text": [
      "s 2\n",
      "r 2\n",
      "h 1\n",
      "a 2\n",
      "e 1\n",
      "i 2\n",
      "c 3\n",
      "t 2\n"
     ]
    }
   ],
   "source": [
    "count_frequency('characteristics')"
   ]
  },
  {
   "cell_type": "code",
   "execution_count": 128,
   "id": "bf8b4baf",
   "metadata": {},
   "outputs": [],
   "source": [
    "## using a dictionary\n",
    "def count_frequency_1(string):\n",
    "    all_freq = {}\n",
    "  \n",
    "    for i in string:\n",
    "        if i in all_freq:\n",
    "            all_freq[i] += 1\n",
    "        else:\n",
    "            all_freq[i] = 1\n",
    "    return all_freq"
   ]
  },
  {
   "cell_type": "code",
   "execution_count": 129,
   "id": "84adda84",
   "metadata": {},
   "outputs": [
    {
     "data": {
      "text/plain": [
       "{'m': 1, 'e': 1, 't': 1, 'h': 1, 'o': 3, 'd': 1, 'l': 1, 'g': 1, 'y': 1}"
      ]
     },
     "execution_count": 129,
     "metadata": {},
     "output_type": "execute_result"
    }
   ],
   "source": [
    "count_frequency_1('methodology')"
   ]
  },
  {
   "cell_type": "code",
   "execution_count": null,
   "id": "f8534f23",
   "metadata": {},
   "outputs": [],
   "source": []
  }
 ],
 "metadata": {
  "kernelspec": {
   "display_name": "Python 3",
   "language": "python",
   "name": "python3"
  },
  "language_info": {
   "codemirror_mode": {
    "name": "ipython",
    "version": 3
   },
   "file_extension": ".py",
   "mimetype": "text/x-python",
   "name": "python",
   "nbconvert_exporter": "python",
   "pygments_lexer": "ipython3",
   "version": "3.8.8"
  }
 },
 "nbformat": 4,
 "nbformat_minor": 5
}
