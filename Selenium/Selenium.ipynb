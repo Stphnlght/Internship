{
 "cells": [
  {
   "cell_type": "code",
   "execution_count": 1,
   "id": "58b5560a",
   "metadata": {
    "collapsed": true
   },
   "outputs": [
    {
     "name": "stdout",
     "output_type": "stream",
     "text": [
      "Collecting Selenium\n",
      "  Downloading selenium-4.5.0-py3-none-any.whl (995 kB)\n",
      "Collecting trio~=0.17\n",
      "  Downloading trio-0.22.0-py3-none-any.whl (384 kB)\n",
      "Requirement already satisfied: urllib3[socks]~=1.26 in c:\\users\\acer\\anaconda3\\lib\\site-packages (from Selenium) (1.26.4)\n",
      "Collecting certifi>=2021.10.8\n",
      "  Downloading certifi-2022.9.24-py3-none-any.whl (161 kB)\n",
      "Collecting trio-websocket~=0.9\n",
      "  Downloading trio_websocket-0.9.2-py3-none-any.whl (16 kB)\n",
      "Requirement already satisfied: cffi>=1.14 in c:\\users\\acer\\anaconda3\\lib\\site-packages (from trio~=0.17->Selenium) (1.14.5)\n",
      "Requirement already satisfied: async-generator>=1.9 in c:\\users\\acer\\anaconda3\\lib\\site-packages (from trio~=0.17->Selenium) (1.10)\n",
      "Requirement already satisfied: idna in c:\\users\\acer\\anaconda3\\lib\\site-packages (from trio~=0.17->Selenium) (2.10)\n",
      "Collecting exceptiongroup>=1.0.0rc9\n",
      "  Downloading exceptiongroup-1.0.0rc9-py3-none-any.whl (12 kB)\n",
      "Requirement already satisfied: sortedcontainers in c:\\users\\acer\\anaconda3\\lib\\site-packages (from trio~=0.17->Selenium) (2.3.0)\n",
      "Requirement already satisfied: attrs>=19.2.0 in c:\\users\\acer\\anaconda3\\lib\\site-packages (from trio~=0.17->Selenium) (20.3.0)\n",
      "Requirement already satisfied: sniffio in c:\\users\\acer\\anaconda3\\lib\\site-packages (from trio~=0.17->Selenium) (1.2.0)\n",
      "Collecting outcome\n",
      "  Downloading outcome-1.2.0-py2.py3-none-any.whl (9.7 kB)\n",
      "Requirement already satisfied: pycparser in c:\\users\\acer\\anaconda3\\lib\\site-packages (from cffi>=1.14->trio~=0.17->Selenium) (2.20)\n",
      "Collecting wsproto>=0.14\n",
      "  Downloading wsproto-1.2.0-py3-none-any.whl (24 kB)\n",
      "Requirement already satisfied: PySocks!=1.5.7,<2.0,>=1.5.6 in c:\\users\\acer\\anaconda3\\lib\\site-packages (from urllib3[socks]~=1.26->Selenium) (1.7.1)\n",
      "Collecting h11<1,>=0.9.0\n",
      "  Downloading h11-0.14.0-py3-none-any.whl (58 kB)\n",
      "Installing collected packages: outcome, h11, exceptiongroup, wsproto, trio, trio-websocket, certifi, Selenium\n",
      "  Attempting uninstall: certifi\n",
      "    Found existing installation: certifi 2020.12.5\n",
      "    Uninstalling certifi-2020.12.5:\n",
      "      Successfully uninstalled certifi-2020.12.5\n",
      "Successfully installed Selenium-4.5.0 certifi-2022.9.24 exceptiongroup-1.0.0rc9 h11-0.14.0 outcome-1.2.0 trio-0.22.0 trio-websocket-0.9.2 wsproto-1.2.0\n",
      "Note: you may need to restart the kernel to use updated packages.\n"
     ]
    },
    {
     "name": "stderr",
     "output_type": "stream",
     "text": [
      "ERROR: pip's dependency resolver does not currently take into account all the packages that are installed. This behaviour is the source of the following dependency conflicts.\n",
      "conda-repo-cli 1.0.4 requires pathlib, which is not installed.\n",
      "anaconda-project 0.9.1 requires ruamel-yaml, which is not installed.\n"
     ]
    }
   ],
   "source": [
    "pip install Selenium"
   ]
  },
  {
   "cell_type": "code",
   "execution_count": 4,
   "id": "b51dd6a9",
   "metadata": {},
   "outputs": [],
   "source": [
    "# importing relevant libraries\n",
    "import selenium\n",
    "from selenium import webdriver\n",
    "import pandas as pd\n",
    "import warnings\n",
    "warnings.filterwarnings('ignore')\n",
    "from selenium.common.exceptions import StaleElementReferenceException, NoSuchElementException\n",
    "from selenium.webdriver.common.by import By\n",
    "import time"
   ]
  },
  {
   "cell_type": "markdown",
   "id": "f175c209",
   "metadata": {},
   "source": [
    "## 1. Data Analyst"
   ]
  },
  {
   "cell_type": "code",
   "execution_count": 54,
   "id": "3d1e11ed",
   "metadata": {},
   "outputs": [],
   "source": [
    "driver = webdriver.Chrome(r\"C:/Users/ACER/Downloads/chromedriver_win32/chromedriver.exe\")"
   ]
  },
  {
   "cell_type": "code",
   "execution_count": 55,
   "id": "83a74171",
   "metadata": {},
   "outputs": [],
   "source": [
    "driver.get('https://www.naukrigulf.com/')"
   ]
  },
  {
   "cell_type": "code",
   "execution_count": 56,
   "id": "ec8fc1ce",
   "metadata": {},
   "outputs": [],
   "source": [
    "search_link = driver.find_element(By.CLASS_NAME, 'caret')\n",
    "search_link.click()"
   ]
  },
  {
   "cell_type": "code",
   "execution_count": 57,
   "id": "199d451a",
   "metadata": {},
   "outputs": [],
   "source": [
    "designation = driver.find_element(By.XPATH, '//*[@id=\"qsbKey\"]')\n",
    "designation.send_keys('Data Analyst')"
   ]
  },
  {
   "cell_type": "code",
   "execution_count": 58,
   "id": "1fb41395",
   "metadata": {},
   "outputs": [],
   "source": [
    "location = driver.find_element(By.XPATH, '//*[@id=\"qsbLoc\"]')\n",
    "location.send_keys('Dubai')"
   ]
  },
  {
   "cell_type": "code",
   "execution_count": 59,
   "id": "d0f35bc5",
   "metadata": {},
   "outputs": [],
   "source": [
    "search = driver.find_element(By.XPATH, '/html/body/div[1]/div[2]/div/div/div/div[1]/form/input')\n",
    "search.click()"
   ]
  },
  {
   "cell_type": "code",
   "execution_count": 67,
   "id": "6c0de9eb",
   "metadata": {},
   "outputs": [],
   "source": [
    "job_title = []\n",
    "job_location = []\n",
    "company_name = []\n",
    "experience_required = []"
   ]
  },
  {
   "cell_type": "code",
   "execution_count": 68,
   "id": "f5b8711c",
   "metadata": {},
   "outputs": [],
   "source": [
    "title_tags = driver.find_elements(By.XPATH,'//*[@class=\"designation-title\"]')\n",
    "for i in title_tags[0:10]:\n",
    "    title = i.text\n",
    "    job_title.append(title)\n",
    "    \n",
    "location_tags = driver.find_elements(By.XPATH,'//*[@class=\"info-loc \"]')\n",
    "for i in location_tags[0:10]:\n",
    "    location = i.text\n",
    "    job_location.append(location)\n",
    "    \n",
    "name_tags = driver.find_elements(By.XPATH,'//*[@class=\"info-org\"]')\n",
    "for i in name_tags[0:10]:\n",
    "    name = i.text\n",
    "    company_name.append(name)\n",
    "    \n",
    "exp_tags = driver.find_elements(By.XPATH,'//*[@class=\"info-exp \"]')\n",
    "for i in exp_tags[0:10]:\n",
    "    exp_required = i.text\n",
    "    experience_required.append(exp_required)"
   ]
  },
  {
   "cell_type": "code",
   "execution_count": 69,
   "id": "0f86000b",
   "metadata": {},
   "outputs": [
    {
     "data": {
      "text/html": [
       "<div>\n",
       "<style scoped>\n",
       "    .dataframe tbody tr th:only-of-type {\n",
       "        vertical-align: middle;\n",
       "    }\n",
       "\n",
       "    .dataframe tbody tr th {\n",
       "        vertical-align: top;\n",
       "    }\n",
       "\n",
       "    .dataframe thead th {\n",
       "        text-align: right;\n",
       "    }\n",
       "</style>\n",
       "<table border=\"1\" class=\"dataframe\">\n",
       "  <thead>\n",
       "    <tr style=\"text-align: right;\">\n",
       "      <th></th>\n",
       "      <th>Job Title</th>\n",
       "      <th>Location</th>\n",
       "      <th>Company Name</th>\n",
       "      <th>Experience Required</th>\n",
       "    </tr>\n",
       "  </thead>\n",
       "  <tbody>\n",
       "    <tr>\n",
       "      <th>0</th>\n",
       "      <td>Data Analyst with Oracle NetSuite software exp...</td>\n",
       "      <td>Dubai - United Arab Emirates</td>\n",
       "      <td>Anna Chamb Mohideen General Trading Co. L.L.C.</td>\n",
       "      <td>1 - 6 Years</td>\n",
       "    </tr>\n",
       "    <tr>\n",
       "      <th>1</th>\n",
       "      <td>Senior Data Analyst</td>\n",
       "      <td>Dubai - United Arab Emirates</td>\n",
       "      <td>Connect Resources</td>\n",
       "      <td>5 - 10 Years</td>\n",
       "    </tr>\n",
       "    <tr>\n",
       "      <th>2</th>\n",
       "      <td>Senior Data Analyst</td>\n",
       "      <td>Dubai - United Arab Emirates</td>\n",
       "      <td>Deriv Services Ltd</td>\n",
       "      <td>4 - 10 Years</td>\n",
       "    </tr>\n",
       "    <tr>\n",
       "      <th>3</th>\n",
       "      <td>Data Analyst</td>\n",
       "      <td>Dubai - United Arab Emirates</td>\n",
       "      <td>Santechture</td>\n",
       "      <td>5 - 6 Years</td>\n",
       "    </tr>\n",
       "    <tr>\n",
       "      <th>4</th>\n",
       "      <td>Healthcare Data Analyst</td>\n",
       "      <td>Dubai - United Arab Emirates</td>\n",
       "      <td>Santechture</td>\n",
       "      <td>1 - 3 Years</td>\n",
       "    </tr>\n",
       "    <tr>\n",
       "      <th>5</th>\n",
       "      <td>Assistant Manager Data Analyst CIB</td>\n",
       "      <td>Dubai - United Arab Emirates</td>\n",
       "      <td>Data Direct Group</td>\n",
       "      <td>8 - 11 Years</td>\n",
       "    </tr>\n",
       "    <tr>\n",
       "      <th>6</th>\n",
       "      <td>Data Analyst (Ecommerce)</td>\n",
       "      <td>Dubai - United Arab Emirates</td>\n",
       "      <td>Al Futtaim Private Company (LLC)</td>\n",
       "      <td>2 - 3 Years</td>\n",
       "    </tr>\n",
       "    <tr>\n",
       "      <th>7</th>\n",
       "      <td>Data Analyst - Digital Marketing</td>\n",
       "      <td>Dubai - United Arab Emirates</td>\n",
       "      <td>Energy Solutions International Consulting DMCC</td>\n",
       "      <td>1 - 3 Years</td>\n",
       "    </tr>\n",
       "    <tr>\n",
       "      <th>8</th>\n",
       "      <td>Data Analyst</td>\n",
       "      <td>Dubai - United Arab Emirates</td>\n",
       "      <td>Santechture</td>\n",
       "      <td>5 - 6 Years</td>\n",
       "    </tr>\n",
       "    <tr>\n",
       "      <th>9</th>\n",
       "      <td>DATA ANALYST</td>\n",
       "      <td>Abu Dhabi , Dubai - United Arab Emirates</td>\n",
       "      <td>Global DevSlam</td>\n",
       "      <td>5 - 10 Years</td>\n",
       "    </tr>\n",
       "  </tbody>\n",
       "</table>\n",
       "</div>"
      ],
      "text/plain": [
       "                                           Job Title  \\\n",
       "0  Data Analyst with Oracle NetSuite software exp...   \n",
       "1                                Senior Data Analyst   \n",
       "2                                Senior Data Analyst   \n",
       "3                                       Data Analyst   \n",
       "4                            Healthcare Data Analyst   \n",
       "5                 Assistant Manager Data Analyst CIB   \n",
       "6                           Data Analyst (Ecommerce)   \n",
       "7                   Data Analyst - Digital Marketing   \n",
       "8                                       Data Analyst   \n",
       "9                                       DATA ANALYST   \n",
       "\n",
       "                                   Location  \\\n",
       "0              Dubai - United Arab Emirates   \n",
       "1              Dubai - United Arab Emirates   \n",
       "2              Dubai - United Arab Emirates   \n",
       "3              Dubai - United Arab Emirates   \n",
       "4              Dubai - United Arab Emirates   \n",
       "5              Dubai - United Arab Emirates   \n",
       "6              Dubai - United Arab Emirates   \n",
       "7              Dubai - United Arab Emirates   \n",
       "8              Dubai - United Arab Emirates   \n",
       "9  Abu Dhabi , Dubai - United Arab Emirates   \n",
       "\n",
       "                                     Company Name Experience Required  \n",
       "0  Anna Chamb Mohideen General Trading Co. L.L.C.         1 - 6 Years  \n",
       "1                               Connect Resources        5 - 10 Years  \n",
       "2                              Deriv Services Ltd        4 - 10 Years  \n",
       "3                                     Santechture         5 - 6 Years  \n",
       "4                                     Santechture         1 - 3 Years  \n",
       "5                               Data Direct Group        8 - 11 Years  \n",
       "6                Al Futtaim Private Company (LLC)         2 - 3 Years  \n",
       "7  Energy Solutions International Consulting DMCC         1 - 3 Years  \n",
       "8                                     Santechture         5 - 6 Years  \n",
       "9                                  Global DevSlam        5 - 10 Years  "
      ]
     },
     "execution_count": 69,
     "metadata": {},
     "output_type": "execute_result"
    }
   ],
   "source": [
    "df = pd.DataFrame({'Job Title': job_title, 'Location':job_location, 'Company Name': company_name, 'Experience Required': experience_required})\n",
    "df"
   ]
  },
  {
   "cell_type": "markdown",
   "id": "988e2e9c",
   "metadata": {},
   "source": [
    "## 2. Data Scientist"
   ]
  },
  {
   "cell_type": "code",
   "execution_count": 70,
   "id": "804bd686",
   "metadata": {},
   "outputs": [],
   "source": [
    "driver = webdriver.Chrome(r\"C:/Users/ACER/Downloads/chromedriver_win32/chromedriver.exe\")"
   ]
  },
  {
   "cell_type": "code",
   "execution_count": 71,
   "id": "f968080d",
   "metadata": {},
   "outputs": [],
   "source": [
    "driver.get('https://www.naukrigulf.com/')"
   ]
  },
  {
   "cell_type": "code",
   "execution_count": 72,
   "id": "fca9f402",
   "metadata": {},
   "outputs": [],
   "source": [
    "search_link = driver.find_element(By.CLASS_NAME, 'caret')\n",
    "search_link.click()"
   ]
  },
  {
   "cell_type": "code",
   "execution_count": 73,
   "id": "1930c762",
   "metadata": {},
   "outputs": [],
   "source": [
    "designation = driver.find_element(By.XPATH, '//*[@id=\"qsbKey\"]')\n",
    "designation.send_keys('Data Scientist”')"
   ]
  },
  {
   "cell_type": "code",
   "execution_count": 74,
   "id": "c426d6e3",
   "metadata": {},
   "outputs": [],
   "source": [
    "location = driver.find_element(By.XPATH, '//*[@id=\"qsbLoc\"]')\n",
    "location.send_keys('Dubai')"
   ]
  },
  {
   "cell_type": "code",
   "execution_count": 75,
   "id": "7152b53d",
   "metadata": {},
   "outputs": [],
   "source": [
    "search = driver.find_element(By.XPATH, '/html/body/div[1]/div[2]/div/div/div/div[1]/form/input')\n",
    "search.click()"
   ]
  },
  {
   "cell_type": "code",
   "execution_count": 76,
   "id": "f5a012da",
   "metadata": {},
   "outputs": [],
   "source": [
    "job_title = []\n",
    "job_location = []\n",
    "company_name = []"
   ]
  },
  {
   "cell_type": "code",
   "execution_count": 77,
   "id": "07d934ea",
   "metadata": {},
   "outputs": [],
   "source": [
    "title_tags = driver.find_elements(By.XPATH,'//*[@class=\"designation-title\"]')\n",
    "for i in title_tags[0:10]:\n",
    "    title = i.text\n",
    "    job_title.append(title)\n",
    "    \n",
    "location_tags = driver.find_elements(By.XPATH,'//*[@class=\"info-loc \"]')\n",
    "for i in location_tags[0:10]:\n",
    "    location = i.text\n",
    "    job_location.append(location)\n",
    "    \n",
    "name_tags = driver.find_elements(By.XPATH,'//*[@class=\"info-org\"]')\n",
    "for i in name_tags[0:10]:\n",
    "    name = i.text\n",
    "    company_name.append(name)\n",
    "    "
   ]
  },
  {
   "cell_type": "code",
   "execution_count": 78,
   "id": "0928e199",
   "metadata": {},
   "outputs": [
    {
     "data": {
      "text/html": [
       "<div>\n",
       "<style scoped>\n",
       "    .dataframe tbody tr th:only-of-type {\n",
       "        vertical-align: middle;\n",
       "    }\n",
       "\n",
       "    .dataframe tbody tr th {\n",
       "        vertical-align: top;\n",
       "    }\n",
       "\n",
       "    .dataframe thead th {\n",
       "        text-align: right;\n",
       "    }\n",
       "</style>\n",
       "<table border=\"1\" class=\"dataframe\">\n",
       "  <thead>\n",
       "    <tr style=\"text-align: right;\">\n",
       "      <th></th>\n",
       "      <th>Job Title</th>\n",
       "      <th>Location</th>\n",
       "      <th>Company Name</th>\n",
       "    </tr>\n",
       "  </thead>\n",
       "  <tbody>\n",
       "    <tr>\n",
       "      <th>0</th>\n",
       "      <td>Data Scientist</td>\n",
       "      <td>Dubai - United Arab Emirates</td>\n",
       "      <td>Abu Dhabi Islamic Bank</td>\n",
       "    </tr>\n",
       "    <tr>\n",
       "      <th>1</th>\n",
       "      <td>Data Scientist (Ecommerce background)</td>\n",
       "      <td>Dubai - United Arab Emirates</td>\n",
       "      <td>Rak Bank</td>\n",
       "    </tr>\n",
       "    <tr>\n",
       "      <th>2</th>\n",
       "      <td>Data Scientist (Banking, Credit Risk and SAS p...</td>\n",
       "      <td>Dubai - United Arab Emirates</td>\n",
       "      <td>Rak Bank</td>\n",
       "    </tr>\n",
       "    <tr>\n",
       "      <th>3</th>\n",
       "      <td>Senior Data Scientist - R/Python</td>\n",
       "      <td>Dubai - United Arab Emirates</td>\n",
       "      <td>careem</td>\n",
       "    </tr>\n",
       "    <tr>\n",
       "      <th>4</th>\n",
       "      <td>Data Scientist</td>\n",
       "      <td>Dubai - United Arab Emirates</td>\n",
       "      <td>RapidData Technologies LLC</td>\n",
       "    </tr>\n",
       "    <tr>\n",
       "      <th>5</th>\n",
       "      <td>Data Scientist– Analytics Team</td>\n",
       "      <td>Dubai - United Arab Emirates</td>\n",
       "      <td>Global DevSlam</td>\n",
       "    </tr>\n",
       "    <tr>\n",
       "      <th>6</th>\n",
       "      <td>Data Scientist - Credit Risk</td>\n",
       "      <td>Dubai - United Arab Emirates</td>\n",
       "      <td>Energy Solutions International Consulting DMCC</td>\n",
       "    </tr>\n",
       "    <tr>\n",
       "      <th>7</th>\n",
       "      <td>Senior Data Scientist</td>\n",
       "      <td>Dubai - United Arab Emirates</td>\n",
       "      <td>Archcorp Architectural Engineering</td>\n",
       "    </tr>\n",
       "    <tr>\n",
       "      <th>8</th>\n",
       "      <td>Data Scientist</td>\n",
       "      <td>Dubai - United Arab Emirates</td>\n",
       "      <td>Archcorp Architectural Engineering</td>\n",
       "    </tr>\n",
       "    <tr>\n",
       "      <th>9</th>\n",
       "      <td>DATA SCIENTIST</td>\n",
       "      <td>Dubai - United Arab Emirates</td>\n",
       "      <td>careem</td>\n",
       "    </tr>\n",
       "  </tbody>\n",
       "</table>\n",
       "</div>"
      ],
      "text/plain": [
       "                                           Job Title  \\\n",
       "0                                     Data Scientist   \n",
       "1              Data Scientist (Ecommerce background)   \n",
       "2  Data Scientist (Banking, Credit Risk and SAS p...   \n",
       "3                   Senior Data Scientist - R/Python   \n",
       "4                                     Data Scientist   \n",
       "5                     Data Scientist– Analytics Team   \n",
       "6                       Data Scientist - Credit Risk   \n",
       "7                              Senior Data Scientist   \n",
       "8                                     Data Scientist   \n",
       "9                                     DATA SCIENTIST   \n",
       "\n",
       "                       Location  \\\n",
       "0  Dubai - United Arab Emirates   \n",
       "1  Dubai - United Arab Emirates   \n",
       "2  Dubai - United Arab Emirates   \n",
       "3  Dubai - United Arab Emirates   \n",
       "4  Dubai - United Arab Emirates   \n",
       "5  Dubai - United Arab Emirates   \n",
       "6  Dubai - United Arab Emirates   \n",
       "7  Dubai - United Arab Emirates   \n",
       "8  Dubai - United Arab Emirates   \n",
       "9  Dubai - United Arab Emirates   \n",
       "\n",
       "                                     Company Name  \n",
       "0                          Abu Dhabi Islamic Bank  \n",
       "1                                        Rak Bank  \n",
       "2                                        Rak Bank  \n",
       "3                                          careem  \n",
       "4                      RapidData Technologies LLC  \n",
       "5                                  Global DevSlam  \n",
       "6  Energy Solutions International Consulting DMCC  \n",
       "7              Archcorp Architectural Engineering  \n",
       "8              Archcorp Architectural Engineering  \n",
       "9                                          careem  "
      ]
     },
     "execution_count": 78,
     "metadata": {},
     "output_type": "execute_result"
    }
   ],
   "source": [
    "df = pd.DataFrame({'Job Title': job_title, 'Location':job_location, 'Company Name': company_name})\n",
    "df"
   ]
  },
  {
   "cell_type": "markdown",
   "id": "5938e617",
   "metadata": {},
   "source": [
    "## 3. Data Scientist Using Salary Filter"
   ]
  },
  {
   "cell_type": "code",
   "execution_count": 97,
   "id": "f888dcab",
   "metadata": {},
   "outputs": [],
   "source": [
    "driver = webdriver.Chrome(r\"C:/Users/ACER/Downloads/chromedriver_win32/chromedriver.exe\")"
   ]
  },
  {
   "cell_type": "code",
   "execution_count": 98,
   "id": "74ec5361",
   "metadata": {},
   "outputs": [],
   "source": [
    "driver.get('https://www.naukrigulf.com/')"
   ]
  },
  {
   "cell_type": "code",
   "execution_count": 99,
   "id": "2c5deb32",
   "metadata": {},
   "outputs": [],
   "source": [
    "search_link = driver.find_element(By.CLASS_NAME, 'caret')\n",
    "search_link.click()"
   ]
  },
  {
   "cell_type": "code",
   "execution_count": 100,
   "id": "ea9f72b9",
   "metadata": {},
   "outputs": [],
   "source": [
    "designation = driver.find_element(By.XPATH, '//*[@id=\"qsbKey\"]')\n",
    "designation.send_keys('Data Scientist')"
   ]
  },
  {
   "cell_type": "code",
   "execution_count": 101,
   "id": "4fa06b0d",
   "metadata": {},
   "outputs": [],
   "source": [
    "location = driver.find_element(By.XPATH, '//*[@id=\"qsbLoc\"]')\n",
    "location.send_keys('Dubai')"
   ]
  },
  {
   "cell_type": "code",
   "execution_count": 104,
   "id": "b280f2b7",
   "metadata": {},
   "outputs": [],
   "source": [
    "search = driver.find_element(By.XPATH, '/html/body/div[1]/div[2]/div/div/div/div[1]/form/input')\n",
    "search.click()"
   ]
  },
  {
   "cell_type": "code",
   "execution_count": 105,
   "id": "d434ac46",
   "metadata": {},
   "outputs": [],
   "source": [
    "filter_arrow = driver.find_element(By.XPATH, '//*[@id=\"filterctc\"]/span')\n",
    "filter_arrow.click()"
   ]
  },
  {
   "cell_type": "code",
   "execution_count": 106,
   "id": "ca4f91bf",
   "metadata": {},
   "outputs": [],
   "source": [
    "salary_filter = driver.find_element(By.XPATH, '//*[@id=\"filterctc\"]/ul/li[4]/label/span[1]')\n",
    "salary_filter.click()"
   ]
  },
  {
   "cell_type": "code",
   "execution_count": 107,
   "id": "ad627b67",
   "metadata": {},
   "outputs": [],
   "source": [
    "refine = driver.find_element(By.XPATH, '//*[@id=\"searchResult\"]/div/section[2]/div[1]/form/div[3]/button')\n",
    "refine.click()"
   ]
  },
  {
   "cell_type": "code",
   "execution_count": 119,
   "id": "a536a794",
   "metadata": {},
   "outputs": [],
   "source": [
    "job_title = []\n",
    "job_location = []\n",
    "company_name = []\n",
    "experience_required = []"
   ]
  },
  {
   "cell_type": "code",
   "execution_count": 120,
   "id": "5d83061a",
   "metadata": {},
   "outputs": [],
   "source": [
    "title_tags = driver.find_elements(By.XPATH,'//*[@class=\"designation-title\"]')\n",
    "for i in title_tags[0:10]:\n",
    "    title = i.text\n",
    "    job_title.append(title)\n",
    "    \n",
    "location_tags = driver.find_elements(By.XPATH,'//*[@class=\"info-loc \"]') + driver.find_elements(By.XPATH, '//*[@class=\"info-loc has-logo\"]')\n",
    "for i in location_tags[0:10]:\n",
    "    location = i.text\n",
    "    job_location.append(location)\n",
    "    \n",
    "name_tags = driver.find_elements(By.XPATH,'//*[@class=\"info-org\"]')\n",
    "for i in name_tags[0:10]:\n",
    "    name = i.text\n",
    "    company_name.append(name)\n",
    "    \n",
    "exp_tags = driver.find_elements(By.XPATH,'//*[@class=\"info-exp \"]') + driver.find_elements(By.XPATH, '//*[@class=\"info-exp has-logo\"]')\n",
    "for i in exp_tags[0:10]:\n",
    "    exp_required = i.text\n",
    "    experience_required.append(exp_required)    "
   ]
  },
  {
   "cell_type": "code",
   "execution_count": 122,
   "id": "59a9bc10",
   "metadata": {},
   "outputs": [
    {
     "data": {
      "text/html": [
       "<div>\n",
       "<style scoped>\n",
       "    .dataframe tbody tr th:only-of-type {\n",
       "        vertical-align: middle;\n",
       "    }\n",
       "\n",
       "    .dataframe tbody tr th {\n",
       "        vertical-align: top;\n",
       "    }\n",
       "\n",
       "    .dataframe thead th {\n",
       "        text-align: right;\n",
       "    }\n",
       "</style>\n",
       "<table border=\"1\" class=\"dataframe\">\n",
       "  <thead>\n",
       "    <tr style=\"text-align: right;\">\n",
       "      <th></th>\n",
       "      <th>Job Title</th>\n",
       "      <th>Location</th>\n",
       "      <th>Company Name</th>\n",
       "      <th>Experience Required</th>\n",
       "    </tr>\n",
       "  </thead>\n",
       "  <tbody>\n",
       "    <tr>\n",
       "      <th>0</th>\n",
       "      <td>AI Lead | Dubai | Permanent Role | Immediate J...</td>\n",
       "      <td>Dubai - United Arab Emirates</td>\n",
       "      <td>RapidData Technologies LLC</td>\n",
       "      <td>4 - 9 Years</td>\n",
       "    </tr>\n",
       "    <tr>\n",
       "      <th>1</th>\n",
       "      <td>Coders HQ DevSlam Talent Connect Area</td>\n",
       "      <td>Dubai - United Arab Emirates</td>\n",
       "      <td>Global DevSlam</td>\n",
       "      <td>0 - 0 Years</td>\n",
       "    </tr>\n",
       "    <tr>\n",
       "      <th>2</th>\n",
       "      <td>Business Intelligence Consultant</td>\n",
       "      <td>Abu Dhabi , Dubai - United Arab Emirates</td>\n",
       "      <td>Energy Solutions International Consulting DMCC</td>\n",
       "      <td>5 - 10 Years</td>\n",
       "    </tr>\n",
       "    <tr>\n",
       "      <th>3</th>\n",
       "      <td>Full Stack Software Developer</td>\n",
       "      <td>Abu Dhabi , Dubai , Sharjah - United Arab Emir...</td>\n",
       "      <td>Archcorp Architectural Engineering</td>\n",
       "      <td>0 - 2 Years</td>\n",
       "    </tr>\n",
       "  </tbody>\n",
       "</table>\n",
       "</div>"
      ],
      "text/plain": [
       "                                           Job Title  \\\n",
       "0  AI Lead | Dubai | Permanent Role | Immediate J...   \n",
       "1              Coders HQ DevSlam Talent Connect Area   \n",
       "2                   Business Intelligence Consultant   \n",
       "3                      Full Stack Software Developer   \n",
       "\n",
       "                                            Location  \\\n",
       "0                       Dubai - United Arab Emirates   \n",
       "1                       Dubai - United Arab Emirates   \n",
       "2           Abu Dhabi , Dubai - United Arab Emirates   \n",
       "3  Abu Dhabi , Dubai , Sharjah - United Arab Emir...   \n",
       "\n",
       "                                     Company Name Experience Required  \n",
       "0                      RapidData Technologies LLC         4 - 9 Years  \n",
       "1                                  Global DevSlam         0 - 0 Years  \n",
       "2  Energy Solutions International Consulting DMCC        5 - 10 Years  \n",
       "3              Archcorp Architectural Engineering         0 - 2 Years  "
      ]
     },
     "execution_count": 122,
     "metadata": {},
     "output_type": "execute_result"
    }
   ],
   "source": [
    "df = pd.DataFrame({'Job Title': job_title, 'Location':job_location, 'Company Name': company_name, 'Experience Required': experience_required})\n",
    "df"
   ]
  },
  {
   "cell_type": "markdown",
   "id": "2221b44e",
   "metadata": {},
   "source": [
    "## 4. Sunglasses"
   ]
  },
  {
   "cell_type": "code",
   "execution_count": 210,
   "id": "4658fd8d",
   "metadata": {},
   "outputs": [],
   "source": [
    "driver = webdriver.Chrome(r\"C:/Users/ACER/Downloads/chromedriver_win32/chromedriver.exe\")"
   ]
  },
  {
   "cell_type": "code",
   "execution_count": 211,
   "id": "e7213ef3",
   "metadata": {},
   "outputs": [],
   "source": [
    "driver.get('https://www.flipkart.com/')"
   ]
  },
  {
   "cell_type": "code",
   "execution_count": 212,
   "id": "b8791c41",
   "metadata": {},
   "outputs": [],
   "source": [
    "close_pop = driver.find_element(By.XPATH, '/html/body/div[2]/div/div/button')\n",
    "close_pop.click()"
   ]
  },
  {
   "cell_type": "code",
   "execution_count": 213,
   "id": "7d261715",
   "metadata": {},
   "outputs": [],
   "source": [
    "search = driver.find_element(By.XPATH, '//*[@class=\"_3704LK\"]')\n",
    "search.send_keys('sunglasses')"
   ]
  },
  {
   "cell_type": "code",
   "execution_count": 214,
   "id": "4bacd219",
   "metadata": {},
   "outputs": [],
   "source": [
    "search_link = driver.find_element(By.XPATH, '//*[@class=\"L0Z3Pu\"]')\n",
    "search_link.click()"
   ]
  },
  {
   "cell_type": "code",
   "execution_count": 215,
   "id": "2ae05485",
   "metadata": {},
   "outputs": [],
   "source": [
    "brand = []\n",
    "description = []\n",
    "price = []"
   ]
  },
  {
   "cell_type": "code",
   "execution_count": 216,
   "id": "64bd2508",
   "metadata": {},
   "outputs": [],
   "source": [
    "ibeta = 0\n",
    "while ibeta <= 3:\n",
    "    bran_tags = driver.find_elements(By.XPATH,'//*[@class=\"_2WkVRV\"]')\n",
    "    for i in bran_tags:\n",
    "        brand_ = i.text\n",
    "        brand.append(brand_)\n",
    "\n",
    "    description_tags = driver.find_elements(By.XPATH,'//*[@class=\"IRpwTa\"]')\n",
    "    for i in description_tags:\n",
    "        description_ = i.text\n",
    "        description.append(description_)\n",
    "\n",
    "    price_tags = driver.find_elements(By.XPATH,'//*[@class=\"_30jeq3\"]')\n",
    "    for i in price_tags:\n",
    "        price_ = i.text\n",
    "        price.append(price_)\n",
    "        \n",
    "    next_ = driver.find_element(By.XPATH, '//*[@class=\"_1LKTO3\"]')\n",
    "    next_.click()\n",
    "    time.sleep(7)\n",
    "    ibeta += 1"
   ]
  },
  {
   "cell_type": "code",
   "execution_count": 217,
   "id": "90a9740f",
   "metadata": {},
   "outputs": [
    {
     "data": {
      "text/html": [
       "<div>\n",
       "<style scoped>\n",
       "    .dataframe tbody tr th:only-of-type {\n",
       "        vertical-align: middle;\n",
       "    }\n",
       "\n",
       "    .dataframe tbody tr th {\n",
       "        vertical-align: top;\n",
       "    }\n",
       "\n",
       "    .dataframe thead th {\n",
       "        text-align: right;\n",
       "    }\n",
       "</style>\n",
       "<table border=\"1\" class=\"dataframe\">\n",
       "  <thead>\n",
       "    <tr style=\"text-align: right;\">\n",
       "      <th></th>\n",
       "      <th>Brand</th>\n",
       "      <th>Description</th>\n",
       "      <th>Price</th>\n",
       "    </tr>\n",
       "  </thead>\n",
       "  <tbody>\n",
       "    <tr>\n",
       "      <th>0</th>\n",
       "      <td>ROYAL SON</td>\n",
       "      <td>UV Protection Rectangular, Retro Square Sungla...</td>\n",
       "      <td>₹424</td>\n",
       "    </tr>\n",
       "    <tr>\n",
       "      <th>1</th>\n",
       "      <td>NuVew</td>\n",
       "      <td>UV Protection Cat-eye Sunglasses (56)</td>\n",
       "      <td>₹425</td>\n",
       "    </tr>\n",
       "    <tr>\n",
       "      <th>2</th>\n",
       "      <td>Fastrack</td>\n",
       "      <td>UV Protection Wayfarer Sunglasses (Free Size)</td>\n",
       "      <td>₹799</td>\n",
       "    </tr>\n",
       "    <tr>\n",
       "      <th>3</th>\n",
       "      <td>DEIXELS</td>\n",
       "      <td>Polarized, UV Protection, Riding Glasses Wayfa...</td>\n",
       "      <td>₹249</td>\n",
       "    </tr>\n",
       "    <tr>\n",
       "      <th>4</th>\n",
       "      <td>SHAAH COLLECTIONS</td>\n",
       "      <td>UV Protection Round Sunglasses (54)</td>\n",
       "      <td>₹179</td>\n",
       "    </tr>\n",
       "    <tr>\n",
       "      <th>...</th>\n",
       "      <td>...</td>\n",
       "      <td>...</td>\n",
       "      <td>...</td>\n",
       "    </tr>\n",
       "    <tr>\n",
       "      <th>95</th>\n",
       "      <td>Singco India</td>\n",
       "      <td>Riding Glasses, UV Protection Clubmaster, Wayf...</td>\n",
       "      <td>₹321</td>\n",
       "    </tr>\n",
       "    <tr>\n",
       "      <th>96</th>\n",
       "      <td>SHAAH COLLECTIONS</td>\n",
       "      <td>UV Protection Aviator Sunglasses (54)</td>\n",
       "      <td>₹179</td>\n",
       "    </tr>\n",
       "    <tr>\n",
       "      <th>97</th>\n",
       "      <td>SHAAH COLLECTIONS</td>\n",
       "      <td>UV Protection Rectangular Sunglasses (Free Size)</td>\n",
       "      <td>₹179</td>\n",
       "    </tr>\n",
       "    <tr>\n",
       "      <th>98</th>\n",
       "      <td>New Specs</td>\n",
       "      <td>UV Protection Rectangular Sunglasses (Free Size)</td>\n",
       "      <td>₹264</td>\n",
       "    </tr>\n",
       "    <tr>\n",
       "      <th>99</th>\n",
       "      <td>ROYAL SON</td>\n",
       "      <td>Polarized, UV Protection Retro Square Sunglass...</td>\n",
       "      <td>₹674</td>\n",
       "    </tr>\n",
       "  </tbody>\n",
       "</table>\n",
       "<p>100 rows × 3 columns</p>\n",
       "</div>"
      ],
      "text/plain": [
       "                Brand                                        Description Price\n",
       "0           ROYAL SON  UV Protection Rectangular, Retro Square Sungla...  ₹424\n",
       "1               NuVew              UV Protection Cat-eye Sunglasses (56)  ₹425\n",
       "2            Fastrack      UV Protection Wayfarer Sunglasses (Free Size)  ₹799\n",
       "3             DEIXELS  Polarized, UV Protection, Riding Glasses Wayfa...  ₹249\n",
       "4   SHAAH COLLECTIONS                UV Protection Round Sunglasses (54)  ₹179\n",
       "..                ...                                                ...   ...\n",
       "95       Singco India  Riding Glasses, UV Protection Clubmaster, Wayf...  ₹321\n",
       "96  SHAAH COLLECTIONS              UV Protection Aviator Sunglasses (54)  ₹179\n",
       "97  SHAAH COLLECTIONS   UV Protection Rectangular Sunglasses (Free Size)  ₹179\n",
       "98          New Specs   UV Protection Rectangular Sunglasses (Free Size)  ₹264\n",
       "99          ROYAL SON  Polarized, UV Protection Retro Square Sunglass...  ₹674\n",
       "\n",
       "[100 rows x 3 columns]"
      ]
     },
     "execution_count": 217,
     "metadata": {},
     "output_type": "execute_result"
    }
   ],
   "source": [
    "df = pd.DataFrame({'Brand': brand[0:100], 'Description':description[0:100], 'Price': price[0:100]})\n",
    "df"
   ]
  },
  {
   "cell_type": "markdown",
   "id": "322833e4",
   "metadata": {},
   "source": [
    "## 5. Iphone 11 Reviews"
   ]
  },
  {
   "cell_type": "code",
   "execution_count": 159,
   "id": "7e6e862b",
   "metadata": {},
   "outputs": [],
   "source": [
    "driver = webdriver.Chrome(r\"C:/Users/ACER/Downloads/chromedriver_win32/chromedriver.exe\")"
   ]
  },
  {
   "cell_type": "code",
   "execution_count": 160,
   "id": "f91030c0",
   "metadata": {},
   "outputs": [],
   "source": [
    "driver.get('https://www.flipkart.com/')"
   ]
  },
  {
   "cell_type": "code",
   "execution_count": 161,
   "id": "a440de33",
   "metadata": {},
   "outputs": [],
   "source": [
    "close_pop = driver.find_element(By.XPATH, '/html/body/div[2]/div/div/button')\n",
    "close_pop.click()"
   ]
  },
  {
   "cell_type": "code",
   "execution_count": 162,
   "id": "cb3d5aa2",
   "metadata": {},
   "outputs": [],
   "source": [
    "search = driver.find_element(By.XPATH, '//*[@class=\"_3704LK\"]')\n",
    "search.send_keys('iphone 11')"
   ]
  },
  {
   "cell_type": "code",
   "execution_count": 163,
   "id": "63bdf04a",
   "metadata": {},
   "outputs": [],
   "source": [
    "search_link = driver.find_element(By.XPATH, '//*[@class=\"L0Z3Pu\"]')\n",
    "search_link.click()"
   ]
  },
  {
   "cell_type": "code",
   "execution_count": 169,
   "id": "62d2006d",
   "metadata": {},
   "outputs": [],
   "source": [
    "phone_link = driver.find_element(By.XPATH, '//*[@class=\"_396cs4 _3exPp9\"]')\n",
    "phone_link.click()"
   ]
  },
  {
   "cell_type": "code",
   "execution_count": 170,
   "id": "420cc6b0",
   "metadata": {},
   "outputs": [],
   "source": [
    "driver.switch_to.window(driver.window_handles[1])\n",
    "review_link = driver.find_element(By.XPATH, '//*[@class=\"_3UAT2v _16PBlm\"]')\n",
    "review_link.click()"
   ]
  },
  {
   "cell_type": "code",
   "execution_count": 176,
   "id": "546b7169",
   "metadata": {},
   "outputs": [],
   "source": [
    "rating = []\n",
    "review_summ = []\n",
    "full_review = []"
   ]
  },
  {
   "cell_type": "code",
   "execution_count": 179,
   "id": "65a94611",
   "metadata": {},
   "outputs": [],
   "source": [
    "ibeta = 0\n",
    "while ibeta <= 20:\n",
    "    rating_tags = driver.find_elements(By.XPATH,'//*[@class=\"_3LWZlK _1BLPMq\"]')\n",
    "    for i in rating_tags:\n",
    "        rating_ = i.text\n",
    "        rating.append(rating_)\n",
    "\n",
    "    review_sum_tags = driver.find_elements(By.XPATH,'//*[@class=\"_2-N8zT\"]')\n",
    "    for i in review_sum_tags:\n",
    "        review_s = i.text\n",
    "        review_summ.append(review_s)\n",
    "\n",
    "    review_tags = driver.find_elements(By.XPATH,'//*[@class=\"t-ZTKy\"]')\n",
    "    for i in review_tags:\n",
    "        reviews_ = i.text\n",
    "        full_review.append(reviews_)\n",
    "        \n",
    "    next_ = driver.find_element(By.XPATH, '//*[@class=\"_1LKTO3\"]')\n",
    "    next_.click()\n",
    "    \n",
    "    time.sleep(7)\n",
    "    ibeta += 1"
   ]
  },
  {
   "cell_type": "code",
   "execution_count": 181,
   "id": "c807c7ef",
   "metadata": {},
   "outputs": [
    {
     "data": {
      "text/html": [
       "<div>\n",
       "<style scoped>\n",
       "    .dataframe tbody tr th:only-of-type {\n",
       "        vertical-align: middle;\n",
       "    }\n",
       "\n",
       "    .dataframe tbody tr th {\n",
       "        vertical-align: top;\n",
       "    }\n",
       "\n",
       "    .dataframe thead th {\n",
       "        text-align: right;\n",
       "    }\n",
       "</style>\n",
       "<table border=\"1\" class=\"dataframe\">\n",
       "  <thead>\n",
       "    <tr style=\"text-align: right;\">\n",
       "      <th></th>\n",
       "      <th>Rating</th>\n",
       "      <th>Review Summary</th>\n",
       "      <th>Full Review</th>\n",
       "    </tr>\n",
       "  </thead>\n",
       "  <tbody>\n",
       "    <tr>\n",
       "      <th>0</th>\n",
       "      <td>5</td>\n",
       "      <td>Perfect product!</td>\n",
       "      <td>Value for money❤️❤️\\nIts awesome mobile phone ...</td>\n",
       "    </tr>\n",
       "    <tr>\n",
       "      <th>1</th>\n",
       "      <td>5</td>\n",
       "      <td>Wonderful</td>\n",
       "      <td>Finally purchased iphone 11 instead of XR and ...</td>\n",
       "    </tr>\n",
       "    <tr>\n",
       "      <th>2</th>\n",
       "      <td>4</td>\n",
       "      <td>Delightful</td>\n",
       "      <td>Always an iPhone fan. Lot of hidden features i...</td>\n",
       "    </tr>\n",
       "    <tr>\n",
       "      <th>3</th>\n",
       "      <td>5</td>\n",
       "      <td>Simply awesome</td>\n",
       "      <td>Really satisfied with the Product I received.....</td>\n",
       "    </tr>\n",
       "    <tr>\n",
       "      <th>4</th>\n",
       "      <td>5</td>\n",
       "      <td>Value-for-money</td>\n",
       "      <td>I'm Really happy with the product\\nDelivery wa...</td>\n",
       "    </tr>\n",
       "    <tr>\n",
       "      <th>...</th>\n",
       "      <td>...</td>\n",
       "      <td>...</td>\n",
       "      <td>...</td>\n",
       "    </tr>\n",
       "    <tr>\n",
       "      <th>95</th>\n",
       "      <td>5</td>\n",
       "      <td>Value-for-money</td>\n",
       "      <td>I'm Really happy with the product\\nDelivery wa...</td>\n",
       "    </tr>\n",
       "    <tr>\n",
       "      <th>96</th>\n",
       "      <td>5</td>\n",
       "      <td>Perfect product!</td>\n",
       "      <td>Amazing phone with great cameras and better ba...</td>\n",
       "    </tr>\n",
       "    <tr>\n",
       "      <th>97</th>\n",
       "      <td>5</td>\n",
       "      <td>Best in the market!</td>\n",
       "      <td>Great iPhone very snappy experience as apple k...</td>\n",
       "    </tr>\n",
       "    <tr>\n",
       "      <th>98</th>\n",
       "      <td>5</td>\n",
       "      <td>Worth every penny</td>\n",
       "      <td>Previously I was using one plus 3t it was a gr...</td>\n",
       "    </tr>\n",
       "    <tr>\n",
       "      <th>99</th>\n",
       "      <td>4</td>\n",
       "      <td>Highly recommended</td>\n",
       "      <td>What a camera .....just awesome ..you can feel...</td>\n",
       "    </tr>\n",
       "  </tbody>\n",
       "</table>\n",
       "<p>100 rows × 3 columns</p>\n",
       "</div>"
      ],
      "text/plain": [
       "   Rating       Review Summary  \\\n",
       "0       5     Perfect product!   \n",
       "1       5            Wonderful   \n",
       "2       4           Delightful   \n",
       "3       5       Simply awesome   \n",
       "4       5      Value-for-money   \n",
       "..    ...                  ...   \n",
       "95      5      Value-for-money   \n",
       "96      5     Perfect product!   \n",
       "97      5  Best in the market!   \n",
       "98      5    Worth every penny   \n",
       "99      4   Highly recommended   \n",
       "\n",
       "                                          Full Review  \n",
       "0   Value for money❤️❤️\\nIts awesome mobile phone ...  \n",
       "1   Finally purchased iphone 11 instead of XR and ...  \n",
       "2   Always an iPhone fan. Lot of hidden features i...  \n",
       "3   Really satisfied with the Product I received.....  \n",
       "4   I'm Really happy with the product\\nDelivery wa...  \n",
       "..                                                ...  \n",
       "95  I'm Really happy with the product\\nDelivery wa...  \n",
       "96  Amazing phone with great cameras and better ba...  \n",
       "97  Great iPhone very snappy experience as apple k...  \n",
       "98  Previously I was using one plus 3t it was a gr...  \n",
       "99  What a camera .....just awesome ..you can feel...  \n",
       "\n",
       "[100 rows x 3 columns]"
      ]
     },
     "execution_count": 181,
     "metadata": {},
     "output_type": "execute_result"
    }
   ],
   "source": [
    "df = pd.DataFrame({'Rating':rating[0:100], 'Review Summary':review_summ[0:100], 'Full Review': full_review[0:100]})\n",
    "df"
   ]
  },
  {
   "cell_type": "markdown",
   "id": "31d439cf",
   "metadata": {},
   "source": [
    "## 6. Sneakers"
   ]
  },
  {
   "cell_type": "code",
   "execution_count": 150,
   "id": "aa2c84ab",
   "metadata": {},
   "outputs": [],
   "source": [
    "driver = webdriver.Chrome(r\"C:/Users/ACER/Downloads/chromedriver_win32/chromedriver.exe\")"
   ]
  },
  {
   "cell_type": "code",
   "execution_count": 151,
   "id": "50461f28",
   "metadata": {},
   "outputs": [],
   "source": [
    "driver.get('https://www.flipkart.com/')"
   ]
  },
  {
   "cell_type": "code",
   "execution_count": 152,
   "id": "1e637a79",
   "metadata": {},
   "outputs": [],
   "source": [
    "close_pop = driver.find_element(By.XPATH, '/html/body/div[2]/div/div/button')\n",
    "close_pop.click()"
   ]
  },
  {
   "cell_type": "code",
   "execution_count": 153,
   "id": "9751dc6c",
   "metadata": {},
   "outputs": [],
   "source": [
    "search = driver.find_element(By.XPATH, '//*[@class=\"_3704LK\"]')\n",
    "search.send_keys('sneakers')"
   ]
  },
  {
   "cell_type": "code",
   "execution_count": 154,
   "id": "4cc38e08",
   "metadata": {},
   "outputs": [],
   "source": [
    "search_link = driver.find_element(By.XPATH, '//*[@class=\"L0Z3Pu\"]')\n",
    "search_link.click()"
   ]
  },
  {
   "cell_type": "code",
   "execution_count": 155,
   "id": "df857074",
   "metadata": {},
   "outputs": [],
   "source": [
    "brand = []\n",
    "description = []\n",
    "price = []\n",
    "discount = []"
   ]
  },
  {
   "cell_type": "code",
   "execution_count": 157,
   "id": "4a6d184a",
   "metadata": {},
   "outputs": [],
   "source": [
    "ibeta = 0\n",
    "while ibeta <= 3:\n",
    "    bran_tags = driver.find_elements(By.XPATH,'//*[@class=\"_2WkVRV\"]')\n",
    "    for i in bran_tags:\n",
    "        brand_ = i.text\n",
    "        brand.append(brand_)\n",
    "\n",
    "    description_tags = driver.find_elements(By.XPATH,'//*[@class=\"IRpwTa\"]')\n",
    "    for i in description_tags:\n",
    "        description_ = i.text\n",
    "        description.append(description_)\n",
    "\n",
    "    price_tags = driver.find_elements(By.XPATH,'//*[@class=\"_30jeq3\"]')\n",
    "    for i in price_tags:\n",
    "        price_ = i.text\n",
    "        price.append(price_)\n",
    "    disc_tags = driver.find_elements(By.XPATH,'//*[@class=\"_3Ay6Sb\"]')\n",
    "    for i in disc_tags:\n",
    "        discount_ = i.text\n",
    "        discount.append(discount_)\n",
    "        \n",
    "    next_ = driver.find_element(By.XPATH, '//*[@class=\"_1LKTO3\"]')\n",
    "    next_.click()\n",
    "    \n",
    "    time.sleep(7)\n",
    "    ibeta += 1"
   ]
  },
  {
   "cell_type": "code",
   "execution_count": 158,
   "id": "6d01b8b1",
   "metadata": {
    "scrolled": false
   },
   "outputs": [
    {
     "data": {
      "text/html": [
       "<div>\n",
       "<style scoped>\n",
       "    .dataframe tbody tr th:only-of-type {\n",
       "        vertical-align: middle;\n",
       "    }\n",
       "\n",
       "    .dataframe tbody tr th {\n",
       "        vertical-align: top;\n",
       "    }\n",
       "\n",
       "    .dataframe thead th {\n",
       "        text-align: right;\n",
       "    }\n",
       "</style>\n",
       "<table border=\"1\" class=\"dataframe\">\n",
       "  <thead>\n",
       "    <tr style=\"text-align: right;\">\n",
       "      <th></th>\n",
       "      <th>Brand</th>\n",
       "      <th>Description</th>\n",
       "      <th>Price</th>\n",
       "      <th>Discount</th>\n",
       "    </tr>\n",
       "  </thead>\n",
       "  <tbody>\n",
       "    <tr>\n",
       "      <th>0</th>\n",
       "      <td>Xylus</td>\n",
       "      <td>Training &amp; Gym &amp; Walking shoes Sneakers For Men</td>\n",
       "      <td>₹472</td>\n",
       "      <td>52% off</td>\n",
       "    </tr>\n",
       "    <tr>\n",
       "      <th>1</th>\n",
       "      <td>RapidBox</td>\n",
       "      <td>Stylish &amp; Trendy Sneakers For Men</td>\n",
       "      <td>₹610</td>\n",
       "      <td>38% off</td>\n",
       "    </tr>\n",
       "    <tr>\n",
       "      <th>2</th>\n",
       "      <td>BRUTON</td>\n",
       "      <td>Modern Trendy Shoes Sneakers For Men</td>\n",
       "      <td>₹470</td>\n",
       "      <td>63% off</td>\n",
       "    </tr>\n",
       "    <tr>\n",
       "      <th>3</th>\n",
       "      <td>RED TAPE</td>\n",
       "      <td>Sneakers For Men</td>\n",
       "      <td>₹1,499</td>\n",
       "      <td>70% off</td>\n",
       "    </tr>\n",
       "    <tr>\n",
       "      <th>4</th>\n",
       "      <td>BRUTON</td>\n",
       "      <td>Lightweight Pack Of 1 Trendy Sneakers Sneakers...</td>\n",
       "      <td>₹259</td>\n",
       "      <td>56% off</td>\n",
       "    </tr>\n",
       "    <tr>\n",
       "      <th>...</th>\n",
       "      <td>...</td>\n",
       "      <td>...</td>\n",
       "      <td>...</td>\n",
       "      <td>...</td>\n",
       "    </tr>\n",
       "    <tr>\n",
       "      <th>95</th>\n",
       "      <td>Mozafia</td>\n",
       "      <td>Sneakers For Men</td>\n",
       "      <td>₹999</td>\n",
       "      <td>50% off</td>\n",
       "    </tr>\n",
       "    <tr>\n",
       "      <th>96</th>\n",
       "      <td>K- FOOTLANCE</td>\n",
       "      <td>Sneakers For Men</td>\n",
       "      <td>₹499</td>\n",
       "      <td>50% off</td>\n",
       "    </tr>\n",
       "    <tr>\n",
       "      <th>97</th>\n",
       "      <td>BRUTON</td>\n",
       "      <td>Skypy-31 Walking Shoes,Training Shoes,Sneakers...</td>\n",
       "      <td>₹636</td>\n",
       "      <td>74% off</td>\n",
       "    </tr>\n",
       "    <tr>\n",
       "      <th>98</th>\n",
       "      <td>'Trends'</td>\n",
       "      <td>Sneakers For Men</td>\n",
       "      <td>₹359</td>\n",
       "      <td>72% off</td>\n",
       "    </tr>\n",
       "    <tr>\n",
       "      <th>99</th>\n",
       "      <td>RapidBox</td>\n",
       "      <td>Bounder-Mirkle Sneakers For Men</td>\n",
       "      <td>₹610</td>\n",
       "      <td>38% off</td>\n",
       "    </tr>\n",
       "  </tbody>\n",
       "</table>\n",
       "<p>100 rows × 4 columns</p>\n",
       "</div>"
      ],
      "text/plain": [
       "           Brand                                        Description   Price  \\\n",
       "0          Xylus    Training & Gym & Walking shoes Sneakers For Men    ₹472   \n",
       "1       RapidBox                  Stylish & Trendy Sneakers For Men    ₹610   \n",
       "2         BRUTON               Modern Trendy Shoes Sneakers For Men    ₹470   \n",
       "3       RED TAPE                                   Sneakers For Men  ₹1,499   \n",
       "4         BRUTON  Lightweight Pack Of 1 Trendy Sneakers Sneakers...    ₹259   \n",
       "..           ...                                                ...     ...   \n",
       "95       Mozafia                                   Sneakers For Men    ₹999   \n",
       "96  K- FOOTLANCE                                   Sneakers For Men    ₹499   \n",
       "97        BRUTON  Skypy-31 Walking Shoes,Training Shoes,Sneakers...    ₹636   \n",
       "98      'Trends'                                   Sneakers For Men    ₹359   \n",
       "99      RapidBox                    Bounder-Mirkle Sneakers For Men    ₹610   \n",
       "\n",
       "   Discount  \n",
       "0   52% off  \n",
       "1   38% off  \n",
       "2   63% off  \n",
       "3   70% off  \n",
       "4   56% off  \n",
       "..      ...  \n",
       "95  50% off  \n",
       "96  50% off  \n",
       "97  74% off  \n",
       "98  72% off  \n",
       "99  38% off  \n",
       "\n",
       "[100 rows x 4 columns]"
      ]
     },
     "execution_count": 158,
     "metadata": {},
     "output_type": "execute_result"
    }
   ],
   "source": [
    "df = pd.DataFrame({'Brand': brand[0:100], 'Description':description[0:100], 'Price': price[0:100], 'Discount': discount[0:100]})\n",
    "df"
   ]
  },
  {
   "cell_type": "markdown",
   "id": "aabac2d6",
   "metadata": {},
   "source": [
    "## 7. Black Shoes From Myntra"
   ]
  },
  {
   "cell_type": "code",
   "execution_count": 186,
   "id": "7e6a81d1",
   "metadata": {},
   "outputs": [],
   "source": [
    "driver = webdriver.Chrome(r\"C:/Users/ACER/Downloads/chromedriver_win32/chromedriver.exe\")"
   ]
  },
  {
   "cell_type": "code",
   "execution_count": 187,
   "id": "15c90710",
   "metadata": {},
   "outputs": [],
   "source": [
    "driver.get('https://www.myntra.com/shoes')"
   ]
  },
  {
   "cell_type": "code",
   "execution_count": 188,
   "id": "5a9d0c46",
   "metadata": {},
   "outputs": [],
   "source": [
    "color_filter = driver.find_element(By.XPATH, '//*[@class=\"common-customCheckbox\"]')\n",
    "color_filter.click()"
   ]
  },
  {
   "cell_type": "code",
   "execution_count": 193,
   "id": "2d88c19e",
   "metadata": {},
   "outputs": [],
   "source": [
    "price_filter = driver.find_element(By.XPATH, '/html/body/div[2]/div/div[1]/main/div[3]/div[1]/section/div/div[5]/ul/li[2]/label')\n",
    "price_filter.click()"
   ]
  },
  {
   "cell_type": "code",
   "execution_count": 206,
   "id": "734d45fd",
   "metadata": {},
   "outputs": [],
   "source": [
    "brand = []\n",
    "description = []\n",
    "price = []"
   ]
  },
  {
   "cell_type": "code",
   "execution_count": 207,
   "id": "8663816b",
   "metadata": {},
   "outputs": [],
   "source": [
    "ibeta = 0\n",
    "while ibeta <= 3:\n",
    "    bran_tags = driver.find_elements(By.XPATH,'//*[@class=\"product-brand\"]')\n",
    "    for i in bran_tags:\n",
    "        brand_ = i.text\n",
    "        brand.append(brand_)\n",
    "\n",
    "    description_tags = driver.find_elements(By.XPATH,'//*[@class=\"product-product\"]')\n",
    "    for i in description_tags:\n",
    "        description_ = i.text\n",
    "        description.append(description_)\n",
    "\n",
    "    price_tags = driver.find_elements(By.XPATH, '//*[@class=\"product-price\"]')\n",
    "    for i in price_tags:\n",
    "        price_ = i.text\n",
    "        price.append(price_)\n",
    "    \n",
    "    next_ = driver.find_element(By.XPATH, '//*[@class=\"pagination-next\"]')\n",
    "    next_.click()\n",
    "    \n",
    "    time.sleep(7)\n",
    "    ibeta += 1"
   ]
  },
  {
   "cell_type": "code",
   "execution_count": 209,
   "id": "0d3df38f",
   "metadata": {},
   "outputs": [
    {
     "data": {
      "text/html": [
       "<div>\n",
       "<style scoped>\n",
       "    .dataframe tbody tr th:only-of-type {\n",
       "        vertical-align: middle;\n",
       "    }\n",
       "\n",
       "    .dataframe tbody tr th {\n",
       "        vertical-align: top;\n",
       "    }\n",
       "\n",
       "    .dataframe thead th {\n",
       "        text-align: right;\n",
       "    }\n",
       "</style>\n",
       "<table border=\"1\" class=\"dataframe\">\n",
       "  <thead>\n",
       "    <tr style=\"text-align: right;\">\n",
       "      <th></th>\n",
       "      <th>Brand</th>\n",
       "      <th>Description</th>\n",
       "      <th>Price</th>\n",
       "    </tr>\n",
       "  </thead>\n",
       "  <tbody>\n",
       "    <tr>\n",
       "      <th>0</th>\n",
       "      <td>ALDO</td>\n",
       "      <td>Leather Party Block Sandals</td>\n",
       "      <td>Rs. 7699Rs. 10999(30% OFF)</td>\n",
       "    </tr>\n",
       "    <tr>\n",
       "      <th>1</th>\n",
       "      <td>ROSSO BRUNELLO</td>\n",
       "      <td>Men Solid Slip-on Formal Shoes</td>\n",
       "      <td>Rs. 11049Rs. 12999(15% OFF)</td>\n",
       "    </tr>\n",
       "    <tr>\n",
       "      <th>2</th>\n",
       "      <td>Clarks</td>\n",
       "      <td>Men Leather Boat Shoes</td>\n",
       "      <td>Rs. 6499</td>\n",
       "    </tr>\n",
       "    <tr>\n",
       "      <th>3</th>\n",
       "      <td>Saint G</td>\n",
       "      <td></td>\n",
       "      <td>Rs. 8910Rs. 9900(10% OFF)</td>\n",
       "    </tr>\n",
       "    <tr>\n",
       "      <th>4</th>\n",
       "      <td>Saint G</td>\n",
       "      <td>Suede Leather Ankle Boots</td>\n",
       "      <td>Rs. 8010Rs. 8900(10% OFF)</td>\n",
       "    </tr>\n",
       "    <tr>\n",
       "      <th>...</th>\n",
       "      <td>...</td>\n",
       "      <td>...</td>\n",
       "      <td>...</td>\n",
       "    </tr>\n",
       "    <tr>\n",
       "      <th>95</th>\n",
       "      <td>Saint G</td>\n",
       "      <td>Women Leather Heeled Boots</td>\n",
       "      <td>Rs. 9900</td>\n",
       "    </tr>\n",
       "    <tr>\n",
       "      <th>96</th>\n",
       "      <td>Bugatti</td>\n",
       "      <td>Men Leather Loafers</td>\n",
       "      <td>Rs. 9499</td>\n",
       "    </tr>\n",
       "    <tr>\n",
       "      <th>97</th>\n",
       "      <td>FILA</td>\n",
       "      <td>Women Running Shoes</td>\n",
       "      <td>Rs. 10999</td>\n",
       "    </tr>\n",
       "    <tr>\n",
       "      <th>98</th>\n",
       "      <td>ADIDAS Originals</td>\n",
       "      <td>Men Retropy F90 Sneakers</td>\n",
       "      <td>Rs. 8499Rs. 9999(15% OFF)</td>\n",
       "    </tr>\n",
       "    <tr>\n",
       "      <th>99</th>\n",
       "      <td>FILA</td>\n",
       "      <td>Women Basketball Shoes</td>\n",
       "      <td>Rs. 10599</td>\n",
       "    </tr>\n",
       "  </tbody>\n",
       "</table>\n",
       "<p>100 rows × 3 columns</p>\n",
       "</div>"
      ],
      "text/plain": [
       "               Brand                     Description  \\\n",
       "0               ALDO     Leather Party Block Sandals   \n",
       "1     ROSSO BRUNELLO  Men Solid Slip-on Formal Shoes   \n",
       "2             Clarks          Men Leather Boat Shoes   \n",
       "3            Saint G                                   \n",
       "4            Saint G       Suede Leather Ankle Boots   \n",
       "..               ...                             ...   \n",
       "95           Saint G      Women Leather Heeled Boots   \n",
       "96           Bugatti             Men Leather Loafers   \n",
       "97              FILA             Women Running Shoes   \n",
       "98  ADIDAS Originals        Men Retropy F90 Sneakers   \n",
       "99              FILA          Women Basketball Shoes   \n",
       "\n",
       "                          Price  \n",
       "0    Rs. 7699Rs. 10999(30% OFF)  \n",
       "1   Rs. 11049Rs. 12999(15% OFF)  \n",
       "2                      Rs. 6499  \n",
       "3     Rs. 8910Rs. 9900(10% OFF)  \n",
       "4     Rs. 8010Rs. 8900(10% OFF)  \n",
       "..                          ...  \n",
       "95                     Rs. 9900  \n",
       "96                     Rs. 9499  \n",
       "97                    Rs. 10999  \n",
       "98    Rs. 8499Rs. 9999(15% OFF)  \n",
       "99                    Rs. 10599  \n",
       "\n",
       "[100 rows x 3 columns]"
      ]
     },
     "execution_count": 209,
     "metadata": {},
     "output_type": "execute_result"
    }
   ],
   "source": [
    "df = pd.DataFrame({'Brand': brand[0:100], 'Description':description[0:100], 'Price': price[0:100]})\n",
    "df"
   ]
  },
  {
   "cell_type": "markdown",
   "id": "ab611082",
   "metadata": {},
   "source": [
    "## 8. Amazon Laptops"
   ]
  },
  {
   "cell_type": "code",
   "execution_count": 219,
   "id": "2c1fd0ee",
   "metadata": {},
   "outputs": [],
   "source": [
    "driver = webdriver.Chrome(r\"C:/Users/ACER/Downloads/chromedriver_win32/chromedriver.exe\")"
   ]
  },
  {
   "cell_type": "code",
   "execution_count": 220,
   "id": "f9434ebf",
   "metadata": {},
   "outputs": [],
   "source": [
    "driver.get('https://www.amazon.in/')"
   ]
  },
  {
   "cell_type": "code",
   "execution_count": 223,
   "id": "5f91b5b2",
   "metadata": {},
   "outputs": [],
   "source": [
    "search = driver.find_element(By.XPATH, '/html/body/div[1]/header/div/div[1]/div[2]/div/form/div[2]/div[1]/input')\n",
    "search.send_keys('laptop')"
   ]
  },
  {
   "cell_type": "code",
   "execution_count": 224,
   "id": "b76d7af8",
   "metadata": {},
   "outputs": [],
   "source": [
    "search_link = driver.find_element(By.XPATH, '//*[@class=\"nav-search-submit nav-sprite\"]')\n",
    "search_link.click()"
   ]
  },
  {
   "cell_type": "code",
   "execution_count": 228,
   "id": "b0b9cbf3",
   "metadata": {},
   "outputs": [],
   "source": [
    "cpu_filter = driver.find_element(By.XPATH, '/html/body/div[1]/div[2]/div[1]/div[2]/div/div[3]/span/div[1]/div/div/div[6]/ul[5]/li[13]/span/a/span')\n",
    "cpu_filter.click()"
   ]
  },
  {
   "cell_type": "code",
   "execution_count": 230,
   "id": "34adb672",
   "metadata": {},
   "outputs": [],
   "source": [
    "title = []\n",
    "rating = []\n",
    "price = []"
   ]
  },
  {
   "cell_type": "code",
   "execution_count": 231,
   "id": "b2cbbecd",
   "metadata": {},
   "outputs": [],
   "source": [
    "title_tags = driver.find_elements(By.XPATH,'//*[@class=\"a-size-medium a-color-base a-text-normal\"]')\n",
    "for i in title_tags[0:10]:\n",
    "    title_ = i.text\n",
    "    title.append(title_)\n",
    "    \n",
    "rating_tags = driver.find_elements(By.XPATH,'//*[@class=\"a-icon-alt\"]')\n",
    "for i in rating_tags[0:10]:\n",
    "    rating_ = i.text\n",
    "    rating.append(rating_)\n",
    "    \n",
    "price_tags = driver.find_elements(By.XPATH,'//*[@class=\"a-price-whole\"]')\n",
    "for i in price_tags[0:10]:\n",
    "    price_ = i.text\n",
    "    price.append(price_)"
   ]
  },
  {
   "cell_type": "code",
   "execution_count": 232,
   "id": "3c42fcc2",
   "metadata": {},
   "outputs": [
    {
     "data": {
      "text/html": [
       "<div>\n",
       "<style scoped>\n",
       "    .dataframe tbody tr th:only-of-type {\n",
       "        vertical-align: middle;\n",
       "    }\n",
       "\n",
       "    .dataframe tbody tr th {\n",
       "        vertical-align: top;\n",
       "    }\n",
       "\n",
       "    .dataframe thead th {\n",
       "        text-align: right;\n",
       "    }\n",
       "</style>\n",
       "<table border=\"1\" class=\"dataframe\">\n",
       "  <thead>\n",
       "    <tr style=\"text-align: right;\">\n",
       "      <th></th>\n",
       "      <th>Title</th>\n",
       "      <th>Rating</th>\n",
       "      <th>Price</th>\n",
       "    </tr>\n",
       "  </thead>\n",
       "  <tbody>\n",
       "    <tr>\n",
       "      <th>0</th>\n",
       "      <td>ASUS Vivobook 15, 15.6-inch (39.62 cms) FHD, I...</td>\n",
       "      <td></td>\n",
       "      <td>77,990</td>\n",
       "    </tr>\n",
       "    <tr>\n",
       "      <th>1</th>\n",
       "      <td>Fujitsu UH-X 11th Gen Intel Core i7 13.3\" FHD ...</td>\n",
       "      <td></td>\n",
       "      <td>1,00,000</td>\n",
       "    </tr>\n",
       "    <tr>\n",
       "      <th>2</th>\n",
       "      <td>ASUS Zenbook 13 OLED, 13.3-inch (33.78 cms) FH...</td>\n",
       "      <td></td>\n",
       "      <td>93,290</td>\n",
       "    </tr>\n",
       "    <tr>\n",
       "      <th>3</th>\n",
       "      <td>ASUS Vivobook 15, 15.6-inch (39.62 cms) FHD, I...</td>\n",
       "      <td></td>\n",
       "      <td>77,990</td>\n",
       "    </tr>\n",
       "    <tr>\n",
       "      <th>4</th>\n",
       "      <td>HP Pavilion x360 11th Gen Intel Core i7 14 inc...</td>\n",
       "      <td></td>\n",
       "      <td>80,990</td>\n",
       "    </tr>\n",
       "    <tr>\n",
       "      <th>5</th>\n",
       "      <td>Lenovo IdeaPad Slim 5 Intel Core i7 12th Gen 1...</td>\n",
       "      <td></td>\n",
       "      <td>79,990</td>\n",
       "    </tr>\n",
       "    <tr>\n",
       "      <th>6</th>\n",
       "      <td>Lenovo ThinkBook 15 Intel 11th Gen Core i7 15....</td>\n",
       "      <td></td>\n",
       "      <td>77,990</td>\n",
       "    </tr>\n",
       "    <tr>\n",
       "      <th>7</th>\n",
       "      <td>HP Pavilion Plus, 12th Gen Intel Core i7 16GB ...</td>\n",
       "      <td></td>\n",
       "      <td>86,990</td>\n",
       "    </tr>\n",
       "    <tr>\n",
       "      <th>8</th>\n",
       "      <td>Lenovo Yoga 7i 11th Gen Intel Core i7-1165G7 1...</td>\n",
       "      <td></td>\n",
       "      <td>1,11,000</td>\n",
       "    </tr>\n",
       "    <tr>\n",
       "      <th>9</th>\n",
       "      <td>Acer Nitro 5 Core i7 11th Gen 15.6\" (39.62cms)...</td>\n",
       "      <td></td>\n",
       "      <td>89,990</td>\n",
       "    </tr>\n",
       "  </tbody>\n",
       "</table>\n",
       "</div>"
      ],
      "text/plain": [
       "                                               Title Rating     Price\n",
       "0  ASUS Vivobook 15, 15.6-inch (39.62 cms) FHD, I...           77,990\n",
       "1  Fujitsu UH-X 11th Gen Intel Core i7 13.3\" FHD ...         1,00,000\n",
       "2  ASUS Zenbook 13 OLED, 13.3-inch (33.78 cms) FH...           93,290\n",
       "3  ASUS Vivobook 15, 15.6-inch (39.62 cms) FHD, I...           77,990\n",
       "4  HP Pavilion x360 11th Gen Intel Core i7 14 inc...           80,990\n",
       "5  Lenovo IdeaPad Slim 5 Intel Core i7 12th Gen 1...           79,990\n",
       "6  Lenovo ThinkBook 15 Intel 11th Gen Core i7 15....           77,990\n",
       "7  HP Pavilion Plus, 12th Gen Intel Core i7 16GB ...           86,990\n",
       "8  Lenovo Yoga 7i 11th Gen Intel Core i7-1165G7 1...         1,11,000\n",
       "9  Acer Nitro 5 Core i7 11th Gen 15.6\" (39.62cms)...           89,990"
      ]
     },
     "execution_count": 232,
     "metadata": {},
     "output_type": "execute_result"
    }
   ],
   "source": [
    "df = pd.DataFrame({'Title': title, 'Rating':rating, 'Price': price})\n",
    "df"
   ]
  },
  {
   "cell_type": "markdown",
   "id": "e079bd75",
   "metadata": {},
   "source": [
    "## 10. Data Scientist Salary - Ambitionbox"
   ]
  },
  {
   "cell_type": "code",
   "execution_count": 233,
   "id": "a641bf52",
   "metadata": {},
   "outputs": [],
   "source": [
    "driver = webdriver.Chrome(r\"C:/Users/ACER/Downloads/chromedriver_win32/chromedriver.exe\")"
   ]
  },
  {
   "cell_type": "code",
   "execution_count": 234,
   "id": "fc85eae7",
   "metadata": {},
   "outputs": [],
   "source": [
    "driver.get('https://www.ambitionbox.com/')"
   ]
  },
  {
   "cell_type": "code",
   "execution_count": 237,
   "id": "d1ad534d",
   "metadata": {},
   "outputs": [],
   "source": [
    "nav_link = driver.find_element(By.XPATH, '//*[@class=\"navItem\"]')\n",
    "nav_link.click()"
   ]
  },
  {
   "cell_type": "code",
   "execution_count": null,
   "id": "eb1d877c",
   "metadata": {},
   "outputs": [],
   "source": [
    "salary_link = driver.find_element(By.XPATH, '//*[@class=\"nameDescWrapper\"]')\n",
    "salary_link.click()"
   ]
  },
  {
   "cell_type": "code",
   "execution_count": null,
   "id": "aea4be4f",
   "metadata": {},
   "outputs": [],
   "source": [
    "designation = driver.find_element(By.XPATH, '/html/body/div[1]/div/div/div[2]/div/div/div/div[1]/span/input')\n",
    "designation.send_keys('Data Scientist')"
   ]
  },
  {
   "cell_type": "code",
   "execution_count": null,
   "id": "e2be22e0",
   "metadata": {},
   "outputs": [],
   "source": [
    "search_link = driver.find_element(By.XPATH, '//*[@class=\"ctas-btn-medium\"]')\n",
    "search_link.click()"
   ]
  },
  {
   "cell_type": "code",
   "execution_count": null,
   "id": "c07d861a",
   "metadata": {},
   "outputs": [],
   "source": [
    "company_name = []\n",
    "total = []\n",
    "avg = []\n",
    "minimum = []\n",
    "maximum = []\n",
    "experience_required = []"
   ]
  },
  {
   "cell_type": "code",
   "execution_count": null,
   "id": "7e464545",
   "metadata": {},
   "outputs": [],
   "source": [
    "total_tags = driver.find_elements(By.XPATH,'//*[@class=\"designation-title\"]')\n",
    "for i in total_tags[0:10]:\n",
    "    title = i.text\n",
    "    total.append(title)\n",
    "    \n",
    "avg_tags = driver.find_elements(By.XPATH,'//*[@class=\"info-loc \"]')\n",
    "for i in avg_tags[0:10]:\n",
    "    location = i.text\n",
    "    avg.append(location)\n",
    "    \n",
    "name_tags = driver.find_elements(By.XPATH,'//*[@class=\"info-org\"]')\n",
    "for i in name_tags[0:10]:\n",
    "    name = i.text\n",
    "    company_name.append(name)\n",
    "    \n",
    "exp_tags = driver.find_elements(By.XPATH,'//*[@class=\"info-exp \"]')\n",
    "for i in exp_tags[0:10]:\n",
    "    exp_required = i.text\n",
    "    experience_required.append(exp_required)\n",
    "\n",
    "min_tags = driver.find_elements(By.XPATH,'//*[@class=\"info-loc \"]')\n",
    "for i in min_tags[0:10]:\n",
    "    location = i.text\n",
    "    minimum.append(location)\n",
    "    \n",
    "max_tags = driver.find_elements(By.XPATH,'//*[@class=\"info-loc \"]')\n",
    "for i in max_tags[0:10]:\n",
    "    location = i.text\n",
    "    maximum.append(location)"
   ]
  },
  {
   "cell_type": "code",
   "execution_count": null,
   "id": "20d0a696",
   "metadata": {},
   "outputs": [],
   "source": [
    "df = pd.DataFrame({'Company Name': company_name,'Total Salary': total, 'Average Salary':avg, 'Minimum Salary': minimum, 'Maximum Salary': maximum, 'Experience Required': exp_required })\n",
    "df"
   ]
  }
 ],
 "metadata": {
  "kernelspec": {
   "display_name": "Python 3",
   "language": "python",
   "name": "python3"
  },
  "language_info": {
   "codemirror_mode": {
    "name": "ipython",
    "version": 3
   },
   "file_extension": ".py",
   "mimetype": "text/x-python",
   "name": "python",
   "nbconvert_exporter": "python",
   "pygments_lexer": "ipython3",
   "version": "3.8.8"
  }
 },
 "nbformat": 4,
 "nbformat_minor": 5
}
